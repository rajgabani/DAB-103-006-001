{
 "cells": [
  {
   "cell_type": "code",
   "execution_count": 55,
   "id": "a579e515",
   "metadata": {},
   "outputs": [],
   "source": [
    "import pandas as pd\n",
    "import numpy as np\n",
    "import matplotlib.pyplot as plt\n",
    "import seaborn as sns\n",
    "import missingno as msno"
   ]
  },
  {
   "cell_type": "code",
   "execution_count": 56,
   "id": "33ba510e",
   "metadata": {},
   "outputs": [],
   "source": [
    "airdf = pd.read_csv('Dataset\\Kag_Airbag.csv', index_col=0)"
   ]
  },
  {
   "cell_type": "code",
   "execution_count": 57,
   "id": "e789a887",
   "metadata": {},
   "outputs": [
    {
     "data": {
      "text/html": [
       "<div>\n",
       "<style scoped>\n",
       "    .dataframe tbody tr th:only-of-type {\n",
       "        vertical-align: middle;\n",
       "    }\n",
       "\n",
       "    .dataframe tbody tr th {\n",
       "        vertical-align: top;\n",
       "    }\n",
       "\n",
       "    .dataframe thead th {\n",
       "        text-align: right;\n",
       "    }\n",
       "</style>\n",
       "<table border=\"1\" class=\"dataframe\">\n",
       "  <thead>\n",
       "    <tr style=\"text-align: right;\">\n",
       "      <th></th>\n",
       "      <th>dvcat</th>\n",
       "      <th>weight</th>\n",
       "      <th>dead</th>\n",
       "      <th>airbag</th>\n",
       "      <th>seatbelt</th>\n",
       "      <th>frontal</th>\n",
       "      <th>sex</th>\n",
       "      <th>ageOFocc</th>\n",
       "      <th>yearacc</th>\n",
       "      <th>yearVeh</th>\n",
       "      <th>abcat</th>\n",
       "      <th>occRole</th>\n",
       "      <th>deploy</th>\n",
       "      <th>injSeverity</th>\n",
       "      <th>caseid</th>\n",
       "    </tr>\n",
       "  </thead>\n",
       "  <tbody>\n",
       "    <tr>\n",
       "      <th>1</th>\n",
       "      <td>25-39</td>\n",
       "      <td>25.069</td>\n",
       "      <td>alive</td>\n",
       "      <td>none</td>\n",
       "      <td>belted</td>\n",
       "      <td>1</td>\n",
       "      <td>f</td>\n",
       "      <td>26</td>\n",
       "      <td>1997</td>\n",
       "      <td>1990.0</td>\n",
       "      <td>unavail</td>\n",
       "      <td>driver</td>\n",
       "      <td>0</td>\n",
       "      <td>3.0</td>\n",
       "      <td>2:3:1</td>\n",
       "    </tr>\n",
       "    <tr>\n",
       "      <th>2</th>\n",
       "      <td>10-24</td>\n",
       "      <td>25.069</td>\n",
       "      <td>alive</td>\n",
       "      <td>airbag</td>\n",
       "      <td>belted</td>\n",
       "      <td>1</td>\n",
       "      <td>f</td>\n",
       "      <td>72</td>\n",
       "      <td>1997</td>\n",
       "      <td>1995.0</td>\n",
       "      <td>deploy</td>\n",
       "      <td>driver</td>\n",
       "      <td>1</td>\n",
       "      <td>1.0</td>\n",
       "      <td>2:3:2</td>\n",
       "    </tr>\n",
       "    <tr>\n",
       "      <th>3</th>\n",
       "      <td>10-24</td>\n",
       "      <td>32.379</td>\n",
       "      <td>alive</td>\n",
       "      <td>none</td>\n",
       "      <td>none</td>\n",
       "      <td>1</td>\n",
       "      <td>f</td>\n",
       "      <td>69</td>\n",
       "      <td>1997</td>\n",
       "      <td>1988.0</td>\n",
       "      <td>unavail</td>\n",
       "      <td>driver</td>\n",
       "      <td>0</td>\n",
       "      <td>4.0</td>\n",
       "      <td>2:5:1</td>\n",
       "    </tr>\n",
       "    <tr>\n",
       "      <th>4</th>\n",
       "      <td>25-39</td>\n",
       "      <td>495.444</td>\n",
       "      <td>alive</td>\n",
       "      <td>airbag</td>\n",
       "      <td>belted</td>\n",
       "      <td>1</td>\n",
       "      <td>f</td>\n",
       "      <td>53</td>\n",
       "      <td>1997</td>\n",
       "      <td>1995.0</td>\n",
       "      <td>deploy</td>\n",
       "      <td>driver</td>\n",
       "      <td>1</td>\n",
       "      <td>1.0</td>\n",
       "      <td>2:10:1</td>\n",
       "    </tr>\n",
       "    <tr>\n",
       "      <th>5</th>\n",
       "      <td>25-39</td>\n",
       "      <td>25.069</td>\n",
       "      <td>alive</td>\n",
       "      <td>none</td>\n",
       "      <td>belted</td>\n",
       "      <td>1</td>\n",
       "      <td>f</td>\n",
       "      <td>32</td>\n",
       "      <td>1997</td>\n",
       "      <td>1988.0</td>\n",
       "      <td>unavail</td>\n",
       "      <td>driver</td>\n",
       "      <td>0</td>\n",
       "      <td>3.0</td>\n",
       "      <td>2:11:1</td>\n",
       "    </tr>\n",
       "  </tbody>\n",
       "</table>\n",
       "</div>"
      ],
      "text/plain": [
       "   dvcat   weight   dead  airbag seatbelt  frontal sex  ageOFocc  yearacc  \\\n",
       "1  25-39   25.069  alive    none   belted        1   f        26     1997   \n",
       "2  10-24   25.069  alive  airbag   belted        1   f        72     1997   \n",
       "3  10-24   32.379  alive    none     none        1   f        69     1997   \n",
       "4  25-39  495.444  alive  airbag   belted        1   f        53     1997   \n",
       "5  25-39   25.069  alive    none   belted        1   f        32     1997   \n",
       "\n",
       "   yearVeh    abcat occRole  deploy  injSeverity  caseid  \n",
       "1   1990.0  unavail  driver       0          3.0   2:3:1  \n",
       "2   1995.0   deploy  driver       1          1.0   2:3:2  \n",
       "3   1988.0  unavail  driver       0          4.0   2:5:1  \n",
       "4   1995.0   deploy  driver       1          1.0  2:10:1  \n",
       "5   1988.0  unavail  driver       0          3.0  2:11:1  "
      ]
     },
     "execution_count": 57,
     "metadata": {},
     "output_type": "execute_result"
    }
   ],
   "source": [
    "airdf.head()"
   ]
  },
  {
   "cell_type": "code",
   "execution_count": 58,
   "id": "2d1902e2",
   "metadata": {},
   "outputs": [
    {
     "data": {
      "text/html": [
       "<div>\n",
       "<style scoped>\n",
       "    .dataframe tbody tr th:only-of-type {\n",
       "        vertical-align: middle;\n",
       "    }\n",
       "\n",
       "    .dataframe tbody tr th {\n",
       "        vertical-align: top;\n",
       "    }\n",
       "\n",
       "    .dataframe thead th {\n",
       "        text-align: right;\n",
       "    }\n",
       "</style>\n",
       "<table border=\"1\" class=\"dataframe\">\n",
       "  <thead>\n",
       "    <tr style=\"text-align: right;\">\n",
       "      <th></th>\n",
       "      <th>dvcat</th>\n",
       "      <th>weight</th>\n",
       "      <th>dead</th>\n",
       "      <th>airbag</th>\n",
       "      <th>seatbelt</th>\n",
       "      <th>frontal</th>\n",
       "      <th>sex</th>\n",
       "      <th>ageOFocc</th>\n",
       "      <th>yearacc</th>\n",
       "      <th>yearVeh</th>\n",
       "      <th>abcat</th>\n",
       "      <th>occRole</th>\n",
       "      <th>deploy</th>\n",
       "      <th>injSeverity</th>\n",
       "      <th>caseid</th>\n",
       "    </tr>\n",
       "  </thead>\n",
       "  <tbody>\n",
       "    <tr>\n",
       "      <th>26213</th>\n",
       "      <td>25-39</td>\n",
       "      <td>3179.688</td>\n",
       "      <td>alive</td>\n",
       "      <td>none</td>\n",
       "      <td>belted</td>\n",
       "      <td>1</td>\n",
       "      <td>m</td>\n",
       "      <td>17</td>\n",
       "      <td>2002</td>\n",
       "      <td>1985.0</td>\n",
       "      <td>unavail</td>\n",
       "      <td>driver</td>\n",
       "      <td>0</td>\n",
       "      <td>0.0</td>\n",
       "      <td>82:107:1</td>\n",
       "    </tr>\n",
       "    <tr>\n",
       "      <th>26214</th>\n",
       "      <td>10-24</td>\n",
       "      <td>71.228</td>\n",
       "      <td>alive</td>\n",
       "      <td>airbag</td>\n",
       "      <td>belted</td>\n",
       "      <td>1</td>\n",
       "      <td>m</td>\n",
       "      <td>54</td>\n",
       "      <td>2002</td>\n",
       "      <td>2002.0</td>\n",
       "      <td>nodeploy</td>\n",
       "      <td>driver</td>\n",
       "      <td>0</td>\n",
       "      <td>2.0</td>\n",
       "      <td>82:108:2</td>\n",
       "    </tr>\n",
       "    <tr>\n",
       "      <th>26215</th>\n",
       "      <td>10-24</td>\n",
       "      <td>10.474</td>\n",
       "      <td>alive</td>\n",
       "      <td>airbag</td>\n",
       "      <td>belted</td>\n",
       "      <td>1</td>\n",
       "      <td>f</td>\n",
       "      <td>27</td>\n",
       "      <td>2002</td>\n",
       "      <td>1990.0</td>\n",
       "      <td>deploy</td>\n",
       "      <td>driver</td>\n",
       "      <td>1</td>\n",
       "      <td>3.0</td>\n",
       "      <td>82:110:1</td>\n",
       "    </tr>\n",
       "    <tr>\n",
       "      <th>26216</th>\n",
       "      <td>25-39</td>\n",
       "      <td>10.474</td>\n",
       "      <td>alive</td>\n",
       "      <td>airbag</td>\n",
       "      <td>belted</td>\n",
       "      <td>1</td>\n",
       "      <td>f</td>\n",
       "      <td>18</td>\n",
       "      <td>2002</td>\n",
       "      <td>1999.0</td>\n",
       "      <td>deploy</td>\n",
       "      <td>driver</td>\n",
       "      <td>1</td>\n",
       "      <td>0.0</td>\n",
       "      <td>82:110:2</td>\n",
       "    </tr>\n",
       "    <tr>\n",
       "      <th>26217</th>\n",
       "      <td>25-39</td>\n",
       "      <td>10.474</td>\n",
       "      <td>alive</td>\n",
       "      <td>airbag</td>\n",
       "      <td>belted</td>\n",
       "      <td>1</td>\n",
       "      <td>m</td>\n",
       "      <td>17</td>\n",
       "      <td>2002</td>\n",
       "      <td>1999.0</td>\n",
       "      <td>deploy</td>\n",
       "      <td>pass</td>\n",
       "      <td>1</td>\n",
       "      <td>0.0</td>\n",
       "      <td>82:110:2</td>\n",
       "    </tr>\n",
       "  </tbody>\n",
       "</table>\n",
       "</div>"
      ],
      "text/plain": [
       "       dvcat    weight   dead  airbag seatbelt  frontal sex  ageOFocc  \\\n",
       "26213  25-39  3179.688  alive    none   belted        1   m        17   \n",
       "26214  10-24    71.228  alive  airbag   belted        1   m        54   \n",
       "26215  10-24    10.474  alive  airbag   belted        1   f        27   \n",
       "26216  25-39    10.474  alive  airbag   belted        1   f        18   \n",
       "26217  25-39    10.474  alive  airbag   belted        1   m        17   \n",
       "\n",
       "       yearacc  yearVeh     abcat occRole  deploy  injSeverity    caseid  \n",
       "26213     2002   1985.0   unavail  driver       0          0.0  82:107:1  \n",
       "26214     2002   2002.0  nodeploy  driver       0          2.0  82:108:2  \n",
       "26215     2002   1990.0    deploy  driver       1          3.0  82:110:1  \n",
       "26216     2002   1999.0    deploy  driver       1          0.0  82:110:2  \n",
       "26217     2002   1999.0    deploy    pass       1          0.0  82:110:2  "
      ]
     },
     "execution_count": 58,
     "metadata": {},
     "output_type": "execute_result"
    }
   ],
   "source": [
    "airdf.tail()"
   ]
  },
  {
   "cell_type": "code",
   "execution_count": 59,
   "id": "258b808c",
   "metadata": {},
   "outputs": [
    {
     "data": {
      "text/plain": [
       "(26217, 15)"
      ]
     },
     "execution_count": 59,
     "metadata": {},
     "output_type": "execute_result"
    }
   ],
   "source": [
    "airdf.shape"
   ]
  },
  {
   "cell_type": "code",
   "execution_count": 60,
   "id": "b95d9d5b",
   "metadata": {},
   "outputs": [
    {
     "name": "stdout",
     "output_type": "stream",
     "text": [
      "<class 'pandas.core.frame.DataFrame'>\n",
      "Int64Index: 26217 entries, 1 to 26217\n",
      "Data columns (total 15 columns):\n",
      " #   Column       Non-Null Count  Dtype  \n",
      "---  ------       --------------  -----  \n",
      " 0   dvcat        26217 non-null  object \n",
      " 1   weight       26217 non-null  float64\n",
      " 2   dead         26217 non-null  object \n",
      " 3   airbag       26217 non-null  object \n",
      " 4   seatbelt     26217 non-null  object \n",
      " 5   frontal      26217 non-null  int64  \n",
      " 6   sex          26217 non-null  object \n",
      " 7   ageOFocc     26217 non-null  int64  \n",
      " 8   yearacc      26217 non-null  int64  \n",
      " 9   yearVeh      26216 non-null  float64\n",
      " 10  abcat        26217 non-null  object \n",
      " 11  occRole      26217 non-null  object \n",
      " 12  deploy       26217 non-null  int64  \n",
      " 13  injSeverity  26064 non-null  float64\n",
      " 14  caseid       26217 non-null  object \n",
      "dtypes: float64(3), int64(4), object(8)\n",
      "memory usage: 3.2+ MB\n"
     ]
    }
   ],
   "source": [
    "airdf.info()"
   ]
  },
  {
   "cell_type": "markdown",
   "id": "b65cbc94",
   "metadata": {},
   "source": [
    "# To check missing values :"
   ]
  },
  {
   "cell_type": "code",
   "execution_count": 61,
   "id": "ddd6d8b3",
   "metadata": {
    "scrolled": true
   },
   "outputs": [
    {
     "data": {
      "text/plain": [
       "dvcat            0\n",
       "weight           0\n",
       "dead             0\n",
       "airbag           0\n",
       "seatbelt         0\n",
       "frontal          0\n",
       "sex              0\n",
       "ageOFocc         0\n",
       "yearacc          0\n",
       "yearVeh          1\n",
       "abcat            0\n",
       "occRole          0\n",
       "deploy           0\n",
       "injSeverity    153\n",
       "caseid           0\n",
       "dtype: int64"
      ]
     },
     "execution_count": 61,
     "metadata": {},
     "output_type": "execute_result"
    }
   ],
   "source": [
    "airdf.isnull().sum()"
   ]
  },
  {
   "cell_type": "markdown",
   "id": "1fffac02",
   "metadata": {},
   "source": [
    "# Checking the columns with null values: "
   ]
  },
  {
   "cell_type": "code",
   "execution_count": 62,
   "id": "3069f953",
   "metadata": {},
   "outputs": [
    {
     "data": {
      "text/html": [
       "<div>\n",
       "<style scoped>\n",
       "    .dataframe tbody tr th:only-of-type {\n",
       "        vertical-align: middle;\n",
       "    }\n",
       "\n",
       "    .dataframe tbody tr th {\n",
       "        vertical-align: top;\n",
       "    }\n",
       "\n",
       "    .dataframe thead th {\n",
       "        text-align: right;\n",
       "    }\n",
       "</style>\n",
       "<table border=\"1\" class=\"dataframe\">\n",
       "  <thead>\n",
       "    <tr style=\"text-align: right;\">\n",
       "      <th></th>\n",
       "      <th>dvcat</th>\n",
       "      <th>weight</th>\n",
       "      <th>dead</th>\n",
       "      <th>airbag</th>\n",
       "      <th>seatbelt</th>\n",
       "      <th>frontal</th>\n",
       "      <th>sex</th>\n",
       "      <th>ageOFocc</th>\n",
       "      <th>yearacc</th>\n",
       "      <th>yearVeh</th>\n",
       "      <th>abcat</th>\n",
       "      <th>occRole</th>\n",
       "      <th>deploy</th>\n",
       "      <th>injSeverity</th>\n",
       "      <th>caseid</th>\n",
       "    </tr>\n",
       "  </thead>\n",
       "  <tbody>\n",
       "    <tr>\n",
       "      <th>1148</th>\n",
       "      <td>10-24</td>\n",
       "      <td>8521.81</td>\n",
       "      <td>alive</td>\n",
       "      <td>airbag</td>\n",
       "      <td>belted</td>\n",
       "      <td>1</td>\n",
       "      <td>m</td>\n",
       "      <td>27</td>\n",
       "      <td>1997</td>\n",
       "      <td>NaN</td>\n",
       "      <td>deploy</td>\n",
       "      <td>driver</td>\n",
       "      <td>1</td>\n",
       "      <td>0.0</td>\n",
       "      <td>11:138:1</td>\n",
       "    </tr>\n",
       "  </tbody>\n",
       "</table>\n",
       "</div>"
      ],
      "text/plain": [
       "      dvcat   weight   dead  airbag seatbelt  frontal sex  ageOFocc  yearacc  \\\n",
       "1148  10-24  8521.81  alive  airbag   belted        1   m        27     1997   \n",
       "\n",
       "      yearVeh   abcat occRole  deploy  injSeverity    caseid  \n",
       "1148      NaN  deploy  driver       1          0.0  11:138:1  "
      ]
     },
     "execution_count": 62,
     "metadata": {},
     "output_type": "execute_result"
    }
   ],
   "source": [
    "airdf[airdf['yearVeh'].isnull() == True]"
   ]
  },
  {
   "cell_type": "code",
   "execution_count": 63,
   "id": "9cfd8f1a",
   "metadata": {},
   "outputs": [
    {
     "data": {
      "text/html": [
       "<div>\n",
       "<style scoped>\n",
       "    .dataframe tbody tr th:only-of-type {\n",
       "        vertical-align: middle;\n",
       "    }\n",
       "\n",
       "    .dataframe tbody tr th {\n",
       "        vertical-align: top;\n",
       "    }\n",
       "\n",
       "    .dataframe thead th {\n",
       "        text-align: right;\n",
       "    }\n",
       "</style>\n",
       "<table border=\"1\" class=\"dataframe\">\n",
       "  <thead>\n",
       "    <tr style=\"text-align: right;\">\n",
       "      <th></th>\n",
       "      <th>dvcat</th>\n",
       "      <th>weight</th>\n",
       "      <th>dead</th>\n",
       "      <th>airbag</th>\n",
       "      <th>seatbelt</th>\n",
       "      <th>frontal</th>\n",
       "      <th>sex</th>\n",
       "      <th>ageOFocc</th>\n",
       "      <th>yearacc</th>\n",
       "      <th>yearVeh</th>\n",
       "      <th>abcat</th>\n",
       "      <th>occRole</th>\n",
       "      <th>deploy</th>\n",
       "      <th>injSeverity</th>\n",
       "      <th>caseid</th>\n",
       "    </tr>\n",
       "  </thead>\n",
       "  <tbody>\n",
       "    <tr>\n",
       "      <th>639</th>\n",
       "      <td>10-24</td>\n",
       "      <td>404.972</td>\n",
       "      <td>alive</td>\n",
       "      <td>none</td>\n",
       "      <td>belted</td>\n",
       "      <td>0</td>\n",
       "      <td>f</td>\n",
       "      <td>36</td>\n",
       "      <td>1997</td>\n",
       "      <td>1984.0</td>\n",
       "      <td>unavail</td>\n",
       "      <td>driver</td>\n",
       "      <td>0</td>\n",
       "      <td>NaN</td>\n",
       "      <td>8:66:2</td>\n",
       "    </tr>\n",
       "    <tr>\n",
       "      <th>863</th>\n",
       "      <td>25-39</td>\n",
       "      <td>34.952</td>\n",
       "      <td>alive</td>\n",
       "      <td>none</td>\n",
       "      <td>none</td>\n",
       "      <td>1</td>\n",
       "      <td>m</td>\n",
       "      <td>22</td>\n",
       "      <td>1997</td>\n",
       "      <td>1993.0</td>\n",
       "      <td>unavail</td>\n",
       "      <td>driver</td>\n",
       "      <td>0</td>\n",
       "      <td>NaN</td>\n",
       "      <td>9:38:1</td>\n",
       "    </tr>\n",
       "    <tr>\n",
       "      <th>1208</th>\n",
       "      <td>10-24</td>\n",
       "      <td>119.699</td>\n",
       "      <td>alive</td>\n",
       "      <td>none</td>\n",
       "      <td>belted</td>\n",
       "      <td>0</td>\n",
       "      <td>f</td>\n",
       "      <td>80</td>\n",
       "      <td>1997</td>\n",
       "      <td>1981.0</td>\n",
       "      <td>unavail</td>\n",
       "      <td>pass</td>\n",
       "      <td>0</td>\n",
       "      <td>NaN</td>\n",
       "      <td>11:186:1</td>\n",
       "    </tr>\n",
       "    <tr>\n",
       "      <th>1254</th>\n",
       "      <td>10-24</td>\n",
       "      <td>3495.253</td>\n",
       "      <td>alive</td>\n",
       "      <td>none</td>\n",
       "      <td>belted</td>\n",
       "      <td>0</td>\n",
       "      <td>f</td>\n",
       "      <td>27</td>\n",
       "      <td>1997</td>\n",
       "      <td>1984.0</td>\n",
       "      <td>unavail</td>\n",
       "      <td>pass</td>\n",
       "      <td>0</td>\n",
       "      <td>NaN</td>\n",
       "      <td>12:25:2</td>\n",
       "    </tr>\n",
       "    <tr>\n",
       "      <th>1342</th>\n",
       "      <td>10-24</td>\n",
       "      <td>34.053</td>\n",
       "      <td>alive</td>\n",
       "      <td>airbag</td>\n",
       "      <td>belted</td>\n",
       "      <td>1</td>\n",
       "      <td>m</td>\n",
       "      <td>23</td>\n",
       "      <td>1997</td>\n",
       "      <td>1995.0</td>\n",
       "      <td>deploy</td>\n",
       "      <td>driver</td>\n",
       "      <td>1</td>\n",
       "      <td>NaN</td>\n",
       "      <td>12:90:1</td>\n",
       "    </tr>\n",
       "    <tr>\n",
       "      <th>...</th>\n",
       "      <td>...</td>\n",
       "      <td>...</td>\n",
       "      <td>...</td>\n",
       "      <td>...</td>\n",
       "      <td>...</td>\n",
       "      <td>...</td>\n",
       "      <td>...</td>\n",
       "      <td>...</td>\n",
       "      <td>...</td>\n",
       "      <td>...</td>\n",
       "      <td>...</td>\n",
       "      <td>...</td>\n",
       "      <td>...</td>\n",
       "      <td>...</td>\n",
       "      <td>...</td>\n",
       "    </tr>\n",
       "    <tr>\n",
       "      <th>25461</th>\n",
       "      <td>10-24</td>\n",
       "      <td>548.186</td>\n",
       "      <td>alive</td>\n",
       "      <td>airbag</td>\n",
       "      <td>belted</td>\n",
       "      <td>1</td>\n",
       "      <td>m</td>\n",
       "      <td>25</td>\n",
       "      <td>2002</td>\n",
       "      <td>1999.0</td>\n",
       "      <td>deploy</td>\n",
       "      <td>pass</td>\n",
       "      <td>1</td>\n",
       "      <td>NaN</td>\n",
       "      <td>75:47:1</td>\n",
       "    </tr>\n",
       "    <tr>\n",
       "      <th>25465</th>\n",
       "      <td>10-24</td>\n",
       "      <td>440.426</td>\n",
       "      <td>alive</td>\n",
       "      <td>airbag</td>\n",
       "      <td>belted</td>\n",
       "      <td>1</td>\n",
       "      <td>m</td>\n",
       "      <td>22</td>\n",
       "      <td>2002</td>\n",
       "      <td>1999.0</td>\n",
       "      <td>nodeploy</td>\n",
       "      <td>pass</td>\n",
       "      <td>0</td>\n",
       "      <td>NaN</td>\n",
       "      <td>75:49:1</td>\n",
       "    </tr>\n",
       "    <tr>\n",
       "      <th>25981</th>\n",
       "      <td>10-24</td>\n",
       "      <td>20.409</td>\n",
       "      <td>alive</td>\n",
       "      <td>none</td>\n",
       "      <td>belted</td>\n",
       "      <td>1</td>\n",
       "      <td>f</td>\n",
       "      <td>17</td>\n",
       "      <td>2002</td>\n",
       "      <td>1987.0</td>\n",
       "      <td>unavail</td>\n",
       "      <td>pass</td>\n",
       "      <td>0</td>\n",
       "      <td>NaN</td>\n",
       "      <td>81:10:2</td>\n",
       "    </tr>\n",
       "    <tr>\n",
       "      <th>26043</th>\n",
       "      <td>25-39</td>\n",
       "      <td>392.914</td>\n",
       "      <td>alive</td>\n",
       "      <td>airbag</td>\n",
       "      <td>belted</td>\n",
       "      <td>1</td>\n",
       "      <td>f</td>\n",
       "      <td>59</td>\n",
       "      <td>2002</td>\n",
       "      <td>1999.0</td>\n",
       "      <td>nodeploy</td>\n",
       "      <td>pass</td>\n",
       "      <td>0</td>\n",
       "      <td>NaN</td>\n",
       "      <td>81:71:1</td>\n",
       "    </tr>\n",
       "    <tr>\n",
       "      <th>26170</th>\n",
       "      <td>10-24</td>\n",
       "      <td>569.739</td>\n",
       "      <td>alive</td>\n",
       "      <td>none</td>\n",
       "      <td>belted</td>\n",
       "      <td>1</td>\n",
       "      <td>m</td>\n",
       "      <td>22</td>\n",
       "      <td>2002</td>\n",
       "      <td>1990.0</td>\n",
       "      <td>unavail</td>\n",
       "      <td>pass</td>\n",
       "      <td>0</td>\n",
       "      <td>NaN</td>\n",
       "      <td>82:59:1</td>\n",
       "    </tr>\n",
       "  </tbody>\n",
       "</table>\n",
       "<p>153 rows × 15 columns</p>\n",
       "</div>"
      ],
      "text/plain": [
       "       dvcat    weight   dead  airbag seatbelt  frontal sex  ageOFocc  \\\n",
       "639    10-24   404.972  alive    none   belted        0   f        36   \n",
       "863    25-39    34.952  alive    none     none        1   m        22   \n",
       "1208   10-24   119.699  alive    none   belted        0   f        80   \n",
       "1254   10-24  3495.253  alive    none   belted        0   f        27   \n",
       "1342   10-24    34.053  alive  airbag   belted        1   m        23   \n",
       "...      ...       ...    ...     ...      ...      ...  ..       ...   \n",
       "25461  10-24   548.186  alive  airbag   belted        1   m        25   \n",
       "25465  10-24   440.426  alive  airbag   belted        1   m        22   \n",
       "25981  10-24    20.409  alive    none   belted        1   f        17   \n",
       "26043  25-39   392.914  alive  airbag   belted        1   f        59   \n",
       "26170  10-24   569.739  alive    none   belted        1   m        22   \n",
       "\n",
       "       yearacc  yearVeh     abcat occRole  deploy  injSeverity    caseid  \n",
       "639       1997   1984.0   unavail  driver       0          NaN    8:66:2  \n",
       "863       1997   1993.0   unavail  driver       0          NaN    9:38:1  \n",
       "1208      1997   1981.0   unavail    pass       0          NaN  11:186:1  \n",
       "1254      1997   1984.0   unavail    pass       0          NaN   12:25:2  \n",
       "1342      1997   1995.0    deploy  driver       1          NaN   12:90:1  \n",
       "...        ...      ...       ...     ...     ...          ...       ...  \n",
       "25461     2002   1999.0    deploy    pass       1          NaN   75:47:1  \n",
       "25465     2002   1999.0  nodeploy    pass       0          NaN   75:49:1  \n",
       "25981     2002   1987.0   unavail    pass       0          NaN   81:10:2  \n",
       "26043     2002   1999.0  nodeploy    pass       0          NaN   81:71:1  \n",
       "26170     2002   1990.0   unavail    pass       0          NaN   82:59:1  \n",
       "\n",
       "[153 rows x 15 columns]"
      ]
     },
     "execution_count": 63,
     "metadata": {},
     "output_type": "execute_result"
    }
   ],
   "source": [
    "airdf[airdf['injSeverity'].isnull() == True]"
   ]
  },
  {
   "cell_type": "markdown",
   "id": "af7cf1ff",
   "metadata": {},
   "source": [
    "# To check duplicate values :"
   ]
  },
  {
   "cell_type": "code",
   "execution_count": 64,
   "id": "cdcea6c6",
   "metadata": {},
   "outputs": [
    {
     "data": {
      "text/plain": [
       "False"
      ]
     },
     "execution_count": 64,
     "metadata": {},
     "output_type": "execute_result"
    }
   ],
   "source": [
    "airdf.duplicated().any()"
   ]
  },
  {
   "cell_type": "markdown",
   "id": "db1a9019",
   "metadata": {},
   "source": [
    "# Summary Statistics for numeric values :"
   ]
  },
  {
   "cell_type": "code",
   "execution_count": 65,
   "id": "86f2e8f3",
   "metadata": {},
   "outputs": [
    {
     "data": {
      "text/html": [
       "<div>\n",
       "<style scoped>\n",
       "    .dataframe tbody tr th:only-of-type {\n",
       "        vertical-align: middle;\n",
       "    }\n",
       "\n",
       "    .dataframe tbody tr th {\n",
       "        vertical-align: top;\n",
       "    }\n",
       "\n",
       "    .dataframe thead th {\n",
       "        text-align: right;\n",
       "    }\n",
       "</style>\n",
       "<table border=\"1\" class=\"dataframe\">\n",
       "  <thead>\n",
       "    <tr style=\"text-align: right;\">\n",
       "      <th></th>\n",
       "      <th>weight</th>\n",
       "      <th>frontal</th>\n",
       "      <th>ageOFocc</th>\n",
       "      <th>yearacc</th>\n",
       "      <th>yearVeh</th>\n",
       "      <th>deploy</th>\n",
       "      <th>injSeverity</th>\n",
       "    </tr>\n",
       "  </thead>\n",
       "  <tbody>\n",
       "    <tr>\n",
       "      <th>count</th>\n",
       "      <td>26217.000000</td>\n",
       "      <td>26217.000000</td>\n",
       "      <td>26217.000000</td>\n",
       "      <td>26217.000000</td>\n",
       "      <td>26216.000000</td>\n",
       "      <td>26217.000000</td>\n",
       "      <td>26064.000000</td>\n",
       "    </tr>\n",
       "    <tr>\n",
       "      <th>mean</th>\n",
       "      <td>462.811611</td>\n",
       "      <td>0.643323</td>\n",
       "      <td>37.206202</td>\n",
       "      <td>1999.555556</td>\n",
       "      <td>1992.804699</td>\n",
       "      <td>0.337033</td>\n",
       "      <td>1.715508</td>\n",
       "    </tr>\n",
       "    <tr>\n",
       "      <th>std</th>\n",
       "      <td>1524.844430</td>\n",
       "      <td>0.479027</td>\n",
       "      <td>17.909317</td>\n",
       "      <td>1.702546</td>\n",
       "      <td>5.594990</td>\n",
       "      <td>0.472705</td>\n",
       "      <td>1.293357</td>\n",
       "    </tr>\n",
       "    <tr>\n",
       "      <th>min</th>\n",
       "      <td>0.000000</td>\n",
       "      <td>0.000000</td>\n",
       "      <td>16.000000</td>\n",
       "      <td>1997.000000</td>\n",
       "      <td>1953.000000</td>\n",
       "      <td>0.000000</td>\n",
       "      <td>0.000000</td>\n",
       "    </tr>\n",
       "    <tr>\n",
       "      <th>25%</th>\n",
       "      <td>32.467000</td>\n",
       "      <td>0.000000</td>\n",
       "      <td>22.000000</td>\n",
       "      <td>1998.000000</td>\n",
       "      <td>1989.000000</td>\n",
       "      <td>0.000000</td>\n",
       "      <td>1.000000</td>\n",
       "    </tr>\n",
       "    <tr>\n",
       "      <th>50%</th>\n",
       "      <td>86.986000</td>\n",
       "      <td>1.000000</td>\n",
       "      <td>33.000000</td>\n",
       "      <td>2000.000000</td>\n",
       "      <td>1994.000000</td>\n",
       "      <td>0.000000</td>\n",
       "      <td>2.000000</td>\n",
       "    </tr>\n",
       "    <tr>\n",
       "      <th>75%</th>\n",
       "      <td>364.717000</td>\n",
       "      <td>1.000000</td>\n",
       "      <td>48.000000</td>\n",
       "      <td>2001.000000</td>\n",
       "      <td>1997.000000</td>\n",
       "      <td>1.000000</td>\n",
       "      <td>3.000000</td>\n",
       "    </tr>\n",
       "    <tr>\n",
       "      <th>max</th>\n",
       "      <td>57871.595000</td>\n",
       "      <td>1.000000</td>\n",
       "      <td>97.000000</td>\n",
       "      <td>2002.000000</td>\n",
       "      <td>2003.000000</td>\n",
       "      <td>1.000000</td>\n",
       "      <td>6.000000</td>\n",
       "    </tr>\n",
       "  </tbody>\n",
       "</table>\n",
       "</div>"
      ],
      "text/plain": [
       "             weight       frontal      ageOFocc       yearacc       yearVeh  \\\n",
       "count  26217.000000  26217.000000  26217.000000  26217.000000  26216.000000   \n",
       "mean     462.811611      0.643323     37.206202   1999.555556   1992.804699   \n",
       "std     1524.844430      0.479027     17.909317      1.702546      5.594990   \n",
       "min        0.000000      0.000000     16.000000   1997.000000   1953.000000   \n",
       "25%       32.467000      0.000000     22.000000   1998.000000   1989.000000   \n",
       "50%       86.986000      1.000000     33.000000   2000.000000   1994.000000   \n",
       "75%      364.717000      1.000000     48.000000   2001.000000   1997.000000   \n",
       "max    57871.595000      1.000000     97.000000   2002.000000   2003.000000   \n",
       "\n",
       "             deploy   injSeverity  \n",
       "count  26217.000000  26064.000000  \n",
       "mean       0.337033      1.715508  \n",
       "std        0.472705      1.293357  \n",
       "min        0.000000      0.000000  \n",
       "25%        0.000000      1.000000  \n",
       "50%        0.000000      2.000000  \n",
       "75%        1.000000      3.000000  \n",
       "max        1.000000      6.000000  "
      ]
     },
     "execution_count": 65,
     "metadata": {},
     "output_type": "execute_result"
    }
   ],
   "source": [
    " airdf.describe()"
   ]
  },
  {
   "cell_type": "markdown",
   "id": "c9e2ae43",
   "metadata": {},
   "source": [
    "## Key Observations : "
   ]
  },
  {
   "cell_type": "markdown",
   "id": "e67eee0a",
   "metadata": {},
   "source": [
    "### Average year of accident is 1999 in the dataset.\n",
    "### Average age of occupant in the vehicle is 37 years with minimum age being 16 and maximum age being 97 years.\n",
    "### Minimum year of vehicle is 1953 , while maximum is 2003. Average year is 1992"
   ]
  },
  {
   "cell_type": "markdown",
   "id": "e9c56bc2",
   "metadata": {},
   "source": [
    "# Summary statistics for object datatype : "
   ]
  },
  {
   "cell_type": "code",
   "execution_count": 66,
   "id": "6bbcab0e",
   "metadata": {},
   "outputs": [
    {
     "data": {
      "text/html": [
       "<div>\n",
       "<style scoped>\n",
       "    .dataframe tbody tr th:only-of-type {\n",
       "        vertical-align: middle;\n",
       "    }\n",
       "\n",
       "    .dataframe tbody tr th {\n",
       "        vertical-align: top;\n",
       "    }\n",
       "\n",
       "    .dataframe thead th {\n",
       "        text-align: right;\n",
       "    }\n",
       "</style>\n",
       "<table border=\"1\" class=\"dataframe\">\n",
       "  <thead>\n",
       "    <tr style=\"text-align: right;\">\n",
       "      <th></th>\n",
       "      <th>dvcat</th>\n",
       "      <th>dead</th>\n",
       "      <th>airbag</th>\n",
       "      <th>seatbelt</th>\n",
       "      <th>sex</th>\n",
       "      <th>abcat</th>\n",
       "      <th>occRole</th>\n",
       "      <th>caseid</th>\n",
       "    </tr>\n",
       "  </thead>\n",
       "  <tbody>\n",
       "    <tr>\n",
       "      <th>count</th>\n",
       "      <td>26217</td>\n",
       "      <td>26217</td>\n",
       "      <td>26217</td>\n",
       "      <td>26217</td>\n",
       "      <td>26217</td>\n",
       "      <td>26217</td>\n",
       "      <td>26217</td>\n",
       "      <td>26217</td>\n",
       "    </tr>\n",
       "    <tr>\n",
       "      <th>unique</th>\n",
       "      <td>5</td>\n",
       "      <td>2</td>\n",
       "      <td>2</td>\n",
       "      <td>2</td>\n",
       "      <td>2</td>\n",
       "      <td>3</td>\n",
       "      <td>2</td>\n",
       "      <td>9409</td>\n",
       "    </tr>\n",
       "    <tr>\n",
       "      <th>top</th>\n",
       "      <td>10-24</td>\n",
       "      <td>alive</td>\n",
       "      <td>airbag</td>\n",
       "      <td>belted</td>\n",
       "      <td>m</td>\n",
       "      <td>unavail</td>\n",
       "      <td>driver</td>\n",
       "      <td>13:157:1</td>\n",
       "    </tr>\n",
       "    <tr>\n",
       "      <th>freq</th>\n",
       "      <td>12848</td>\n",
       "      <td>25037</td>\n",
       "      <td>14419</td>\n",
       "      <td>18573</td>\n",
       "      <td>13969</td>\n",
       "      <td>11798</td>\n",
       "      <td>20601</td>\n",
       "      <td>11</td>\n",
       "    </tr>\n",
       "  </tbody>\n",
       "</table>\n",
       "</div>"
      ],
      "text/plain": [
       "        dvcat   dead  airbag seatbelt    sex    abcat occRole    caseid\n",
       "count   26217  26217   26217    26217  26217    26217   26217     26217\n",
       "unique      5      2       2        2      2        3       2      9409\n",
       "top     10-24  alive  airbag   belted      m  unavail  driver  13:157:1\n",
       "freq    12848  25037   14419    18573  13969    11798   20601        11"
      ]
     },
     "execution_count": 66,
     "metadata": {},
     "output_type": "execute_result"
    }
   ],
   "source": [
    "airdf.describe(include=['O'])"
   ]
  },
  {
   "cell_type": "code",
   "execution_count": 67,
   "id": "9958f0ff",
   "metadata": {},
   "outputs": [
    {
     "data": {
      "text/plain": [
       "array(['driver', 'pass'], dtype=object)"
      ]
     },
     "execution_count": 67,
     "metadata": {},
     "output_type": "execute_result"
    }
   ],
   "source": [
    "airdf['occRole'].unique()"
   ]
  },
  {
   "cell_type": "markdown",
   "id": "8f479780",
   "metadata": {},
   "source": [
    "### There are two unique values in vehicle occupant role : Driver and Passenger\n",
    "### Top category is driver\n"
   ]
  },
  {
   "cell_type": "markdown",
   "id": "4513a489",
   "metadata": {},
   "source": [
    "# Count of Unique values of Injury Severity :"
   ]
  },
  {
   "cell_type": "code",
   "execution_count": 68,
   "id": "091ede36",
   "metadata": {
    "scrolled": true
   },
   "outputs": [
    {
     "data": {
      "image/png": "[encoded data removed]",
      "text/plain": [
       "<Figure size 432x288 with 1 Axes>"
      ]
     },
     "metadata": {
      "needs_background": "light"
     },
     "output_type": "display_data"
    }
   ],
   "source": [
    "airdf['injSeverity'].value_counts().plot.bar()\n",
    "plt.xlabel('Injury Severity (1-6)')\n",
    "plt.ylabel('Number of Injuries')\n",
    "plt.show()"
   ]
  },
  {
   "cell_type": "markdown",
   "id": "20f8eda6",
   "metadata": {},
   "source": [
    "### It can be observed that most injuries severity level was 3 followed by 0 and 1."
   ]
  },
  {
   "cell_type": "markdown",
   "id": "8f4428d7",
   "metadata": {},
   "source": [
    "## Count plot of Frontal & Non- Frontal impact :"
   ]
  },
  {
   "cell_type": "code",
   "execution_count": 69,
   "id": "ffb08383",
   "metadata": {},
   "outputs": [
    {
     "data": {
      "image/png": "[encoded data removed]",
      "text/plain": [
       "<Figure size 432x288 with 1 Axes>"
      ]
     },
     "metadata": {
      "needs_background": "light"
     },
     "output_type": "display_data"
    }
   ],
   "source": [
    "sns.countplot(data=airdf, x = 'frontal')\n",
    "plt.show()"
   ]
  },
  {
   "cell_type": "markdown",
   "id": "f9557855",
   "metadata": {},
   "source": [
    "### Here, it can be observed that around 16000 crashes had a frontal impact (1 for frontal, 0 for non-frontal) ,while around 9000 crashes were non- frontal"
   ]
  },
  {
   "cell_type": "markdown",
   "id": "4b22e059",
   "metadata": {},
   "source": [
    "### Plotting missing values :"
   ]
  },
  {
   "cell_type": "code",
   "execution_count": 70,
   "id": "b0c941bf",
   "metadata": {},
   "outputs": [
    {
     "data": {
      "text/plain": [
       "<Figure size 720x432 with 0 Axes>"
      ]
     },
     "metadata": {},
     "output_type": "display_data"
    },
    {
     "data": {
      "image/png": "[encoded data removed]",
      "text/plain": [
       "<Figure size 511.25x360 with 1 Axes>"
      ]
     },
     "metadata": {
      "needs_background": "light"
     },
     "output_type": "display_data"
    }
   ],
   "source": [
    "plt.figure(figsize=(10,6))\n",
    "sns.displot(\n",
    "    data=airdf.isna().melt(value_name=\"missing\"),\n",
    "    y=\"variable\",\n",
    "    hue=\"missing\",\n",
    "    multiple=\"fill\",\n",
    "    aspect=1.25\n",
    ")\n",
    "plt.savefig(\"visualizing_missing_data_with_barplot_Seaborn_distplot.png\", dpi=100)\n",
    "plt.show()"
   ]
  },
  {
   "cell_type": "markdown",
   "id": "c76be008",
   "metadata": {},
   "source": [
    "## Count of unique values of airbag column : "
   ]
  },
  {
   "cell_type": "code",
   "execution_count": 71,
   "id": "90703d3f",
   "metadata": {
    "scrolled": true
   },
   "outputs": [
    {
     "data": {
      "text/plain": [
       "airbag    14419\n",
       "none      11798\n",
       "Name: airbag, dtype: int64"
      ]
     },
     "execution_count": 71,
     "metadata": {},
     "output_type": "execute_result"
    }
   ],
   "source": [
    "airdf['airbag'].value_counts()"
   ]
  },
  {
   "cell_type": "markdown",
   "id": "d77f3a23",
   "metadata": {},
   "source": [
    "## Visualization to see the number of casualties, that resulted in death or survived :"
   ]
  },
  {
   "cell_type": "code",
   "execution_count": 72,
   "id": "d99405ed",
   "metadata": {
    "scrolled": true
   },
   "outputs": [
    {
     "data": {
      "image/png": "[encoded data removed]",
      "text/plain": [
       "<Figure size 432x288 with 1 Axes>"
      ]
     },
     "metadata": {
      "needs_background": "light"
     },
     "output_type": "display_data"
    }
   ],
   "source": [
    "sns.countplot(data=airdf, x='dead')\n",
    "plt.xlabel(\"Survived\")\n",
    "plt.ylabel(\"Number of victims\")\n",
    "plt.title(\"Number of casualties that result in death or survived\")\n",
    "plt.show()"
   ]
  },
  {
   "cell_type": "markdown",
   "id": "6f122804",
   "metadata": {},
   "source": [
    "### It is very obvious from the count plot displayed above, that major proportion of people survived the crash"
   ]
  },
  {
   "cell_type": "code",
   "execution_count": 74,
   "id": "0bc32083",
   "metadata": {},
   "outputs": [
    {
     "data": {
      "text/plain": [
       "1-9km/h      686\n",
       "10-24      12848\n",
       "25-39       8214\n",
       "40-54       2977\n",
       "55+         1492\n",
       "Name: dvcat, dtype: int64"
      ]
     },
     "execution_count": 74,
     "metadata": {},
     "output_type": "execute_result"
    }
   ],
   "source": [
    "airdf['dvcat'].value_counts().sort_index()"
   ]
  },
  {
   "cell_type": "markdown",
   "id": "b740ce33",
   "metadata": {},
   "source": [
    "## To check correlation :"
   ]
  },
  {
   "cell_type": "code",
   "execution_count": 75,
   "id": "cc5e2b03",
   "metadata": {},
   "outputs": [
    {
     "data": {
      "image/png": "[encoded data removed]",
      "text/plain": [
       "<Figure size 720x360 with 2 Axes>"
      ]
     },
     "metadata": {
      "needs_background": "light"
     },
     "output_type": "display_data"
    }
   ],
   "source": [
    "plt.figure(figsize=(10,5))\n",
    "sns.heatmap(airdf.corr(),annot=True) \n",
    "plt.show()"
   ]
  },
  {
   "cell_type": "markdown",
   "id": "b0be0ae6",
   "metadata": {},
   "source": [
    "### There is a weak positive correlation (0.48) between year of vehicle and whether the airbag was deployed or not."
   ]
  },
  {
   "cell_type": "markdown",
   "id": "5d22579f",
   "metadata": {},
   "source": [
    "# Number of accidents year wise :"
   ]
  },
  {
   "cell_type": "code",
   "execution_count": 76,
   "id": "45f6d1a8",
   "metadata": {},
   "outputs": [
    {
     "data": {
      "text/plain": [
       "yearacc\n",
       "1997    3975\n",
       "1998    4427\n",
       "1999    4516\n",
       "2000    4420\n",
       "2001    4115\n",
       "2002    4764\n",
       "dtype: int64"
      ]
     },
     "execution_count": 76,
     "metadata": {},
     "output_type": "execute_result"
    }
   ],
   "source": [
    "airdf.groupby('yearacc').size()"
   ]
  },
  {
   "cell_type": "markdown",
   "id": "f4fa64f2",
   "metadata": {},
   "source": [
    "## Number of deaths when seatbelt was worn and airbag was deployed during the accident"
   ]
  },
  {
   "cell_type": "code",
   "execution_count": 77,
   "id": "035a6eaa",
   "metadata": {},
   "outputs": [],
   "source": [
    "condition1 = airdf[(airdf['seatbelt'] == 'belted') & (airdf['deploy'] == 1)]"
   ]
  },
  {
   "cell_type": "code",
   "execution_count": 78,
   "id": "d0282e4b",
   "metadata": {},
   "outputs": [
    {
     "data": {
      "text/html": [
       "<div>\n",
       "<style scoped>\n",
       "    .dataframe tbody tr th:only-of-type {\n",
       "        vertical-align: middle;\n",
       "    }\n",
       "\n",
       "    .dataframe tbody tr th {\n",
       "        vertical-align: top;\n",
       "    }\n",
       "\n",
       "    .dataframe thead th {\n",
       "        text-align: right;\n",
       "    }\n",
       "</style>\n",
       "<table border=\"1\" class=\"dataframe\">\n",
       "  <thead>\n",
       "    <tr style=\"text-align: right;\">\n",
       "      <th></th>\n",
       "      <th>dvcat</th>\n",
       "      <th>weight</th>\n",
       "      <th>dead</th>\n",
       "      <th>airbag</th>\n",
       "      <th>seatbelt</th>\n",
       "      <th>frontal</th>\n",
       "      <th>sex</th>\n",
       "      <th>ageOFocc</th>\n",
       "      <th>yearacc</th>\n",
       "      <th>yearVeh</th>\n",
       "      <th>abcat</th>\n",
       "      <th>occRole</th>\n",
       "      <th>deploy</th>\n",
       "      <th>injSeverity</th>\n",
       "      <th>caseid</th>\n",
       "    </tr>\n",
       "  </thead>\n",
       "  <tbody>\n",
       "    <tr>\n",
       "      <th>321</th>\n",
       "      <td>10-24</td>\n",
       "      <td>13.374</td>\n",
       "      <td>dead</td>\n",
       "      <td>airbag</td>\n",
       "      <td>belted</td>\n",
       "      <td>1</td>\n",
       "      <td>m</td>\n",
       "      <td>37</td>\n",
       "      <td>1997</td>\n",
       "      <td>1995.0</td>\n",
       "      <td>deploy</td>\n",
       "      <td>driver</td>\n",
       "      <td>1</td>\n",
       "      <td>4.0</td>\n",
       "      <td>4:104:2</td>\n",
       "    </tr>\n",
       "    <tr>\n",
       "      <th>492</th>\n",
       "      <td>25-39</td>\n",
       "      <td>7.532</td>\n",
       "      <td>dead</td>\n",
       "      <td>airbag</td>\n",
       "      <td>belted</td>\n",
       "      <td>0</td>\n",
       "      <td>f</td>\n",
       "      <td>63</td>\n",
       "      <td>1997</td>\n",
       "      <td>1995.0</td>\n",
       "      <td>deploy</td>\n",
       "      <td>pass</td>\n",
       "      <td>1</td>\n",
       "      <td>3.0</td>\n",
       "      <td>6:38:2</td>\n",
       "    </tr>\n",
       "    <tr>\n",
       "      <th>498</th>\n",
       "      <td>40-54</td>\n",
       "      <td>15.273</td>\n",
       "      <td>dead</td>\n",
       "      <td>airbag</td>\n",
       "      <td>belted</td>\n",
       "      <td>0</td>\n",
       "      <td>m</td>\n",
       "      <td>70</td>\n",
       "      <td>1997</td>\n",
       "      <td>1990.0</td>\n",
       "      <td>deploy</td>\n",
       "      <td>driver</td>\n",
       "      <td>1</td>\n",
       "      <td>4.0</td>\n",
       "      <td>6:44:2</td>\n",
       "    </tr>\n",
       "    <tr>\n",
       "      <th>546</th>\n",
       "      <td>55+</td>\n",
       "      <td>7.757</td>\n",
       "      <td>dead</td>\n",
       "      <td>airbag</td>\n",
       "      <td>belted</td>\n",
       "      <td>0</td>\n",
       "      <td>f</td>\n",
       "      <td>25</td>\n",
       "      <td>1997</td>\n",
       "      <td>1994.0</td>\n",
       "      <td>deploy</td>\n",
       "      <td>driver</td>\n",
       "      <td>1</td>\n",
       "      <td>4.0</td>\n",
       "      <td>6:122:3</td>\n",
       "    </tr>\n",
       "    <tr>\n",
       "      <th>827</th>\n",
       "      <td>25-39</td>\n",
       "      <td>42.012</td>\n",
       "      <td>dead</td>\n",
       "      <td>airbag</td>\n",
       "      <td>belted</td>\n",
       "      <td>0</td>\n",
       "      <td>m</td>\n",
       "      <td>26</td>\n",
       "      <td>1997</td>\n",
       "      <td>1994.0</td>\n",
       "      <td>deploy</td>\n",
       "      <td>driver</td>\n",
       "      <td>1</td>\n",
       "      <td>4.0</td>\n",
       "      <td>9:11:1</td>\n",
       "    </tr>\n",
       "    <tr>\n",
       "      <th>...</th>\n",
       "      <td>...</td>\n",
       "      <td>...</td>\n",
       "      <td>...</td>\n",
       "      <td>...</td>\n",
       "      <td>...</td>\n",
       "      <td>...</td>\n",
       "      <td>...</td>\n",
       "      <td>...</td>\n",
       "      <td>...</td>\n",
       "      <td>...</td>\n",
       "      <td>...</td>\n",
       "      <td>...</td>\n",
       "      <td>...</td>\n",
       "      <td>...</td>\n",
       "      <td>...</td>\n",
       "    </tr>\n",
       "    <tr>\n",
       "      <th>25674</th>\n",
       "      <td>55+</td>\n",
       "      <td>124.428</td>\n",
       "      <td>dead</td>\n",
       "      <td>airbag</td>\n",
       "      <td>belted</td>\n",
       "      <td>1</td>\n",
       "      <td>m</td>\n",
       "      <td>18</td>\n",
       "      <td>2002</td>\n",
       "      <td>2001.0</td>\n",
       "      <td>deploy</td>\n",
       "      <td>pass</td>\n",
       "      <td>1</td>\n",
       "      <td>4.0</td>\n",
       "      <td>76:97:1</td>\n",
       "    </tr>\n",
       "    <tr>\n",
       "      <th>25740</th>\n",
       "      <td>25-39</td>\n",
       "      <td>65.372</td>\n",
       "      <td>dead</td>\n",
       "      <td>airbag</td>\n",
       "      <td>belted</td>\n",
       "      <td>1</td>\n",
       "      <td>f</td>\n",
       "      <td>87</td>\n",
       "      <td>2002</td>\n",
       "      <td>1999.0</td>\n",
       "      <td>deploy</td>\n",
       "      <td>driver</td>\n",
       "      <td>1</td>\n",
       "      <td>4.0</td>\n",
       "      <td>78:39:1</td>\n",
       "    </tr>\n",
       "    <tr>\n",
       "      <th>25746</th>\n",
       "      <td>25-39</td>\n",
       "      <td>76.202</td>\n",
       "      <td>dead</td>\n",
       "      <td>airbag</td>\n",
       "      <td>belted</td>\n",
       "      <td>0</td>\n",
       "      <td>m</td>\n",
       "      <td>73</td>\n",
       "      <td>2002</td>\n",
       "      <td>1994.0</td>\n",
       "      <td>deploy</td>\n",
       "      <td>driver</td>\n",
       "      <td>1</td>\n",
       "      <td>4.0</td>\n",
       "      <td>78:52:1</td>\n",
       "    </tr>\n",
       "    <tr>\n",
       "      <th>25948</th>\n",
       "      <td>55+</td>\n",
       "      <td>7.387</td>\n",
       "      <td>dead</td>\n",
       "      <td>airbag</td>\n",
       "      <td>belted</td>\n",
       "      <td>0</td>\n",
       "      <td>m</td>\n",
       "      <td>86</td>\n",
       "      <td>2002</td>\n",
       "      <td>2002.0</td>\n",
       "      <td>deploy</td>\n",
       "      <td>driver</td>\n",
       "      <td>1</td>\n",
       "      <td>4.0</td>\n",
       "      <td>79:121:1</td>\n",
       "    </tr>\n",
       "    <tr>\n",
       "      <th>25949</th>\n",
       "      <td>55+</td>\n",
       "      <td>7.387</td>\n",
       "      <td>dead</td>\n",
       "      <td>airbag</td>\n",
       "      <td>belted</td>\n",
       "      <td>0</td>\n",
       "      <td>f</td>\n",
       "      <td>86</td>\n",
       "      <td>2002</td>\n",
       "      <td>2002.0</td>\n",
       "      <td>deploy</td>\n",
       "      <td>pass</td>\n",
       "      <td>1</td>\n",
       "      <td>4.0</td>\n",
       "      <td>79:121:1</td>\n",
       "    </tr>\n",
       "  </tbody>\n",
       "</table>\n",
       "<p>154 rows × 15 columns</p>\n",
       "</div>"
      ],
      "text/plain": [
       "       dvcat   weight  dead  airbag seatbelt  frontal sex  ageOFocc  yearacc  \\\n",
       "321    10-24   13.374  dead  airbag   belted        1   m        37     1997   \n",
       "492    25-39    7.532  dead  airbag   belted        0   f        63     1997   \n",
       "498    40-54   15.273  dead  airbag   belted        0   m        70     1997   \n",
       "546      55+    7.757  dead  airbag   belted        0   f        25     1997   \n",
       "827    25-39   42.012  dead  airbag   belted        0   m        26     1997   \n",
       "...      ...      ...   ...     ...      ...      ...  ..       ...      ...   \n",
       "25674    55+  124.428  dead  airbag   belted        1   m        18     2002   \n",
       "25740  25-39   65.372  dead  airbag   belted        1   f        87     2002   \n",
       "25746  25-39   76.202  dead  airbag   belted        0   m        73     2002   \n",
       "25948    55+    7.387  dead  airbag   belted        0   m        86     2002   \n",
       "25949    55+    7.387  dead  airbag   belted        0   f        86     2002   \n",
       "\n",
       "       yearVeh   abcat occRole  deploy  injSeverity    caseid  \n",
       "321     1995.0  deploy  driver       1          4.0   4:104:2  \n",
       "492     1995.0  deploy    pass       1          3.0    6:38:2  \n",
       "498     1990.0  deploy  driver       1          4.0    6:44:2  \n",
       "546     1994.0  deploy  driver       1          4.0   6:122:3  \n",
       "827     1994.0  deploy  driver       1          4.0    9:11:1  \n",
       "...        ...     ...     ...     ...          ...       ...  \n",
       "25674   2001.0  deploy    pass       1          4.0   76:97:1  \n",
       "25740   1999.0  deploy  driver       1          4.0   78:39:1  \n",
       "25746   1994.0  deploy  driver       1          4.0   78:52:1  \n",
       "25948   2002.0  deploy  driver       1          4.0  79:121:1  \n",
       "25949   2002.0  deploy    pass       1          4.0  79:121:1  \n",
       "\n",
       "[154 rows x 15 columns]"
      ]
     },
     "execution_count": 78,
     "metadata": {},
     "output_type": "execute_result"
    }
   ],
   "source": [
    "condition1[condition1['dead'] == 'dead']"
   ]
  },
  {
   "cell_type": "markdown",
   "id": "e625b84b",
   "metadata": {},
   "source": [
    "### 154 cases which resulted in death of occupant."
   ]
  },
  {
   "cell_type": "code",
   "execution_count": 79,
   "id": "dba17248",
   "metadata": {},
   "outputs": [
    {
     "data": {
      "text/plain": [
       "array(['25-39', '10-24', '40-54', '55+', '1-9km/h'], dtype=object)"
      ]
     },
     "execution_count": 79,
     "metadata": {},
     "output_type": "execute_result"
    }
   ],
   "source": [
    "airdf['dvcat'].unique()"
   ]
  },
  {
   "cell_type": "markdown",
   "id": "26a5a203",
   "metadata": {},
   "source": [
    "# Number of deaths when impact speed was 55+ :"
   ]
  },
  {
   "cell_type": "code",
   "execution_count": 80,
   "id": "6c4e1b15",
   "metadata": {},
   "outputs": [
    {
     "data": {
      "text/html": [
       "<div>\n",
       "<style scoped>\n",
       "    .dataframe tbody tr th:only-of-type {\n",
       "        vertical-align: middle;\n",
       "    }\n",
       "\n",
       "    .dataframe tbody tr th {\n",
       "        vertical-align: top;\n",
       "    }\n",
       "\n",
       "    .dataframe thead th {\n",
       "        text-align: right;\n",
       "    }\n",
       "</style>\n",
       "<table border=\"1\" class=\"dataframe\">\n",
       "  <thead>\n",
       "    <tr style=\"text-align: right;\">\n",
       "      <th></th>\n",
       "      <th>dvcat</th>\n",
       "      <th>weight</th>\n",
       "      <th>dead</th>\n",
       "      <th>airbag</th>\n",
       "      <th>seatbelt</th>\n",
       "      <th>frontal</th>\n",
       "      <th>sex</th>\n",
       "      <th>ageOFocc</th>\n",
       "      <th>yearacc</th>\n",
       "      <th>yearVeh</th>\n",
       "      <th>abcat</th>\n",
       "      <th>occRole</th>\n",
       "      <th>deploy</th>\n",
       "      <th>injSeverity</th>\n",
       "      <th>caseid</th>\n",
       "    </tr>\n",
       "  </thead>\n",
       "  <tbody>\n",
       "    <tr>\n",
       "      <th>8</th>\n",
       "      <td>55+</td>\n",
       "      <td>27.078</td>\n",
       "      <td>dead</td>\n",
       "      <td>none</td>\n",
       "      <td>none</td>\n",
       "      <td>1</td>\n",
       "      <td>m</td>\n",
       "      <td>32</td>\n",
       "      <td>1997</td>\n",
       "      <td>1987.0</td>\n",
       "      <td>unavail</td>\n",
       "      <td>driver</td>\n",
       "      <td>0</td>\n",
       "      <td>4.0</td>\n",
       "      <td>2:13:2</td>\n",
       "    </tr>\n",
       "    <tr>\n",
       "      <th>83</th>\n",
       "      <td>55+</td>\n",
       "      <td>27.078</td>\n",
       "      <td>dead</td>\n",
       "      <td>none</td>\n",
       "      <td>belted</td>\n",
       "      <td>1</td>\n",
       "      <td>m</td>\n",
       "      <td>67</td>\n",
       "      <td>1997</td>\n",
       "      <td>1992.0</td>\n",
       "      <td>unavail</td>\n",
       "      <td>driver</td>\n",
       "      <td>0</td>\n",
       "      <td>4.0</td>\n",
       "      <td>2:79:1</td>\n",
       "    </tr>\n",
       "    <tr>\n",
       "      <th>84</th>\n",
       "      <td>55+</td>\n",
       "      <td>27.078</td>\n",
       "      <td>dead</td>\n",
       "      <td>none</td>\n",
       "      <td>belted</td>\n",
       "      <td>1</td>\n",
       "      <td>f</td>\n",
       "      <td>64</td>\n",
       "      <td>1997</td>\n",
       "      <td>1992.0</td>\n",
       "      <td>unavail</td>\n",
       "      <td>pass</td>\n",
       "      <td>0</td>\n",
       "      <td>4.0</td>\n",
       "      <td>2:79:1</td>\n",
       "    </tr>\n",
       "    <tr>\n",
       "      <th>265</th>\n",
       "      <td>55+</td>\n",
       "      <td>13.374</td>\n",
       "      <td>dead</td>\n",
       "      <td>none</td>\n",
       "      <td>none</td>\n",
       "      <td>1</td>\n",
       "      <td>m</td>\n",
       "      <td>23</td>\n",
       "      <td>1997</td>\n",
       "      <td>1986.0</td>\n",
       "      <td>unavail</td>\n",
       "      <td>driver</td>\n",
       "      <td>0</td>\n",
       "      <td>4.0</td>\n",
       "      <td>4:58:1</td>\n",
       "    </tr>\n",
       "    <tr>\n",
       "      <th>317</th>\n",
       "      <td>55+</td>\n",
       "      <td>13.374</td>\n",
       "      <td>dead</td>\n",
       "      <td>none</td>\n",
       "      <td>none</td>\n",
       "      <td>0</td>\n",
       "      <td>m</td>\n",
       "      <td>34</td>\n",
       "      <td>1997</td>\n",
       "      <td>1990.0</td>\n",
       "      <td>unavail</td>\n",
       "      <td>driver</td>\n",
       "      <td>0</td>\n",
       "      <td>4.0</td>\n",
       "      <td>4:100:1</td>\n",
       "    </tr>\n",
       "    <tr>\n",
       "      <th>...</th>\n",
       "      <td>...</td>\n",
       "      <td>...</td>\n",
       "      <td>...</td>\n",
       "      <td>...</td>\n",
       "      <td>...</td>\n",
       "      <td>...</td>\n",
       "      <td>...</td>\n",
       "      <td>...</td>\n",
       "      <td>...</td>\n",
       "      <td>...</td>\n",
       "      <td>...</td>\n",
       "      <td>...</td>\n",
       "      <td>...</td>\n",
       "      <td>...</td>\n",
       "      <td>...</td>\n",
       "    </tr>\n",
       "    <tr>\n",
       "      <th>25949</th>\n",
       "      <td>55+</td>\n",
       "      <td>7.387</td>\n",
       "      <td>dead</td>\n",
       "      <td>airbag</td>\n",
       "      <td>belted</td>\n",
       "      <td>0</td>\n",
       "      <td>f</td>\n",
       "      <td>86</td>\n",
       "      <td>2002</td>\n",
       "      <td>2002.0</td>\n",
       "      <td>deploy</td>\n",
       "      <td>pass</td>\n",
       "      <td>1</td>\n",
       "      <td>4.0</td>\n",
       "      <td>79:121:1</td>\n",
       "    </tr>\n",
       "    <tr>\n",
       "      <th>25952</th>\n",
       "      <td>55+</td>\n",
       "      <td>7.387</td>\n",
       "      <td>dead</td>\n",
       "      <td>none</td>\n",
       "      <td>belted</td>\n",
       "      <td>1</td>\n",
       "      <td>m</td>\n",
       "      <td>33</td>\n",
       "      <td>2002</td>\n",
       "      <td>1988.0</td>\n",
       "      <td>unavail</td>\n",
       "      <td>driver</td>\n",
       "      <td>0</td>\n",
       "      <td>4.0</td>\n",
       "      <td>79:122:1</td>\n",
       "    </tr>\n",
       "    <tr>\n",
       "      <th>25993</th>\n",
       "      <td>55+</td>\n",
       "      <td>24.828</td>\n",
       "      <td>dead</td>\n",
       "      <td>none</td>\n",
       "      <td>belted</td>\n",
       "      <td>0</td>\n",
       "      <td>m</td>\n",
       "      <td>26</td>\n",
       "      <td>2002</td>\n",
       "      <td>1991.0</td>\n",
       "      <td>unavail</td>\n",
       "      <td>driver</td>\n",
       "      <td>0</td>\n",
       "      <td>4.0</td>\n",
       "      <td>81:21:1</td>\n",
       "    </tr>\n",
       "    <tr>\n",
       "      <th>26081</th>\n",
       "      <td>55+</td>\n",
       "      <td>25.273</td>\n",
       "      <td>dead</td>\n",
       "      <td>none</td>\n",
       "      <td>none</td>\n",
       "      <td>0</td>\n",
       "      <td>f</td>\n",
       "      <td>58</td>\n",
       "      <td>2002</td>\n",
       "      <td>1986.0</td>\n",
       "      <td>unavail</td>\n",
       "      <td>driver</td>\n",
       "      <td>0</td>\n",
       "      <td>3.0</td>\n",
       "      <td>81:101:1</td>\n",
       "    </tr>\n",
       "    <tr>\n",
       "      <th>26158</th>\n",
       "      <td>55+</td>\n",
       "      <td>4.849</td>\n",
       "      <td>dead</td>\n",
       "      <td>airbag</td>\n",
       "      <td>none</td>\n",
       "      <td>0</td>\n",
       "      <td>m</td>\n",
       "      <td>22</td>\n",
       "      <td>2002</td>\n",
       "      <td>1997.0</td>\n",
       "      <td>deploy</td>\n",
       "      <td>pass</td>\n",
       "      <td>1</td>\n",
       "      <td>3.0</td>\n",
       "      <td>82:41:1</td>\n",
       "    </tr>\n",
       "  </tbody>\n",
       "</table>\n",
       "<p>415 rows × 15 columns</p>\n",
       "</div>"
      ],
      "text/plain": [
       "      dvcat  weight  dead  airbag seatbelt  frontal sex  ageOFocc  yearacc  \\\n",
       "8       55+  27.078  dead    none     none        1   m        32     1997   \n",
       "83      55+  27.078  dead    none   belted        1   m        67     1997   \n",
       "84      55+  27.078  dead    none   belted        1   f        64     1997   \n",
       "265     55+  13.374  dead    none     none        1   m        23     1997   \n",
       "317     55+  13.374  dead    none     none        0   m        34     1997   \n",
       "...     ...     ...   ...     ...      ...      ...  ..       ...      ...   \n",
       "25949   55+   7.387  dead  airbag   belted        0   f        86     2002   \n",
       "25952   55+   7.387  dead    none   belted        1   m        33     2002   \n",
       "25993   55+  24.828  dead    none   belted        0   m        26     2002   \n",
       "26081   55+  25.273  dead    none     none        0   f        58     2002   \n",
       "26158   55+   4.849  dead  airbag     none        0   m        22     2002   \n",
       "\n",
       "       yearVeh    abcat occRole  deploy  injSeverity    caseid  \n",
       "8       1987.0  unavail  driver       0          4.0    2:13:2  \n",
       "83      1992.0  unavail  driver       0          4.0    2:79:1  \n",
       "84      1992.0  unavail    pass       0          4.0    2:79:1  \n",
       "265     1986.0  unavail  driver       0          4.0    4:58:1  \n",
       "317     1990.0  unavail  driver       0          4.0   4:100:1  \n",
       "...        ...      ...     ...     ...          ...       ...  \n",
       "25949   2002.0   deploy    pass       1          4.0  79:121:1  \n",
       "25952   1988.0  unavail  driver       0          4.0  79:122:1  \n",
       "25993   1991.0  unavail  driver       0          4.0   81:21:1  \n",
       "26081   1986.0  unavail  driver       0          3.0  81:101:1  \n",
       "26158   1997.0   deploy    pass       1          3.0   82:41:1  \n",
       "\n",
       "[415 rows x 15 columns]"
      ]
     },
     "execution_count": 80,
     "metadata": {},
     "output_type": "execute_result"
    }
   ],
   "source": [
    "airdf[(airdf['dvcat'] == '55+') & (airdf['dead'] == 'dead')]"
   ]
  },
  {
   "cell_type": "markdown",
   "id": "058b4ed4",
   "metadata": {},
   "source": [
    "### 415 cases where impact speed was 55+ and resulted in death of occupant."
   ]
  },
  {
   "cell_type": "markdown",
   "id": "2f6ef039",
   "metadata": {},
   "source": [
    "# Dataset 2 : Accident"
   ]
  },
  {
   "cell_type": "code",
   "execution_count": 81,
   "id": "58c522b6",
   "metadata": {},
   "outputs": [
    {
     "data": {
      "text/html": [
       "<div>\n",
       "<style scoped>\n",
       "    .dataframe tbody tr th:only-of-type {\n",
       "        vertical-align: middle;\n",
       "    }\n",
       "\n",
       "    .dataframe tbody tr th {\n",
       "        vertical-align: top;\n",
       "    }\n",
       "\n",
       "    .dataframe thead th {\n",
       "        text-align: right;\n",
       "    }\n",
       "</style>\n",
       "<table border=\"1\" class=\"dataframe\">\n",
       "  <thead>\n",
       "    <tr style=\"text-align: right;\">\n",
       "      <th></th>\n",
       "      <th>Number of Vehicles</th>\n",
       "      <th>Accident Date</th>\n",
       "      <th>Time (24hr)</th>\n",
       "      <th>Road Surface</th>\n",
       "      <th>Lighting Conditions</th>\n",
       "      <th>Weather Conditions</th>\n",
       "      <th>Casualty Class</th>\n",
       "      <th>Casualty Severity</th>\n",
       "      <th>Sex of Casualty</th>\n",
       "      <th>Age of Casualty</th>\n",
       "      <th>Type of Vehicle</th>\n",
       "    </tr>\n",
       "  </thead>\n",
       "  <tbody>\n",
       "    <tr>\n",
       "      <th>0</th>\n",
       "      <td>1</td>\n",
       "      <td>2009-01-01</td>\n",
       "      <td>55</td>\n",
       "      <td>Dry</td>\n",
       "      <td>Darkness: street lights present and lit</td>\n",
       "      <td>Fine without high winds</td>\n",
       "      <td>Pedestrian</td>\n",
       "      <td>Slight</td>\n",
       "      <td>Male</td>\n",
       "      <td>44</td>\n",
       "      <td>Car</td>\n",
       "    </tr>\n",
       "    <tr>\n",
       "      <th>1</th>\n",
       "      <td>1</td>\n",
       "      <td>2009-01-02</td>\n",
       "      <td>2335</td>\n",
       "      <td>Dry</td>\n",
       "      <td>Darkness: street lights present and lit</td>\n",
       "      <td>Fine without high winds</td>\n",
       "      <td>Driver</td>\n",
       "      <td>Serious</td>\n",
       "      <td>Female</td>\n",
       "      <td>23</td>\n",
       "      <td>Car</td>\n",
       "    </tr>\n",
       "    <tr>\n",
       "      <th>2</th>\n",
       "      <td>1</td>\n",
       "      <td>2009-01-02</td>\n",
       "      <td>1645</td>\n",
       "      <td>Dry</td>\n",
       "      <td>Darkness: street lights present and lit</td>\n",
       "      <td>Fine without high winds</td>\n",
       "      <td>Pedestrian</td>\n",
       "      <td>Slight</td>\n",
       "      <td>Female</td>\n",
       "      <td>12</td>\n",
       "      <td>Car</td>\n",
       "    </tr>\n",
       "    <tr>\n",
       "      <th>3</th>\n",
       "      <td>1</td>\n",
       "      <td>2009-01-02</td>\n",
       "      <td>1723</td>\n",
       "      <td>Dry</td>\n",
       "      <td>Darkness: street lights present and lit</td>\n",
       "      <td>Fine without high winds</td>\n",
       "      <td>Pedestrian</td>\n",
       "      <td>Slight</td>\n",
       "      <td>Male</td>\n",
       "      <td>15</td>\n",
       "      <td>Car</td>\n",
       "    </tr>\n",
       "    <tr>\n",
       "      <th>4</th>\n",
       "      <td>2</td>\n",
       "      <td>2009-01-02</td>\n",
       "      <td>1350</td>\n",
       "      <td>Dry</td>\n",
       "      <td>Daylight: street lights present</td>\n",
       "      <td>Fine without high winds</td>\n",
       "      <td>Driver</td>\n",
       "      <td>Slight</td>\n",
       "      <td>Female</td>\n",
       "      <td>34</td>\n",
       "      <td>Car</td>\n",
       "    </tr>\n",
       "    <tr>\n",
       "      <th>...</th>\n",
       "      <td>...</td>\n",
       "      <td>...</td>\n",
       "      <td>...</td>\n",
       "      <td>...</td>\n",
       "      <td>...</td>\n",
       "      <td>...</td>\n",
       "      <td>...</td>\n",
       "      <td>...</td>\n",
       "      <td>...</td>\n",
       "      <td>...</td>\n",
       "      <td>...</td>\n",
       "    </tr>\n",
       "    <tr>\n",
       "      <th>12985</th>\n",
       "      <td>2</td>\n",
       "      <td>2016-12-24</td>\n",
       "      <td>1325</td>\n",
       "      <td>Wet / Damp</td>\n",
       "      <td>Daylight: street lights present</td>\n",
       "      <td>Raining without high winds</td>\n",
       "      <td>Driver or rider</td>\n",
       "      <td>Slight</td>\n",
       "      <td>Female</td>\n",
       "      <td>43</td>\n",
       "      <td>Car</td>\n",
       "    </tr>\n",
       "    <tr>\n",
       "      <th>12986</th>\n",
       "      <td>2</td>\n",
       "      <td>2016-12-24</td>\n",
       "      <td>1325</td>\n",
       "      <td>Wet / Damp</td>\n",
       "      <td>Daylight: street lights present</td>\n",
       "      <td>Raining without high winds</td>\n",
       "      <td>Vehicle or pillion passenger</td>\n",
       "      <td>Slight</td>\n",
       "      <td>Male</td>\n",
       "      <td>15</td>\n",
       "      <td>Car</td>\n",
       "    </tr>\n",
       "    <tr>\n",
       "      <th>12987</th>\n",
       "      <td>2</td>\n",
       "      <td>2016-12-26</td>\n",
       "      <td>2304</td>\n",
       "      <td>Dry</td>\n",
       "      <td>Darkness: street lights present and lit</td>\n",
       "      <td>Fine without high winds</td>\n",
       "      <td>Vehicle or pillion passenger</td>\n",
       "      <td>Serious</td>\n",
       "      <td>Female</td>\n",
       "      <td>26</td>\n",
       "      <td>Taxi/Private hire car</td>\n",
       "    </tr>\n",
       "    <tr>\n",
       "      <th>12988</th>\n",
       "      <td>2</td>\n",
       "      <td>2016-12-26</td>\n",
       "      <td>2304</td>\n",
       "      <td>Dry</td>\n",
       "      <td>Darkness: street lights present and lit</td>\n",
       "      <td>Fine without high winds</td>\n",
       "      <td>Driver or rider</td>\n",
       "      <td>Serious</td>\n",
       "      <td>Male</td>\n",
       "      <td>66</td>\n",
       "      <td>Taxi/Private hire car</td>\n",
       "    </tr>\n",
       "    <tr>\n",
       "      <th>12989</th>\n",
       "      <td>4</td>\n",
       "      <td>2016-12-31</td>\n",
       "      <td>2346</td>\n",
       "      <td>Wet / Damp</td>\n",
       "      <td>Darkness: street lights present and lit</td>\n",
       "      <td>Raining without high winds</td>\n",
       "      <td>Driver or rider</td>\n",
       "      <td>Slight</td>\n",
       "      <td>Male</td>\n",
       "      <td>27</td>\n",
       "      <td>Car</td>\n",
       "    </tr>\n",
       "  </tbody>\n",
       "</table>\n",
       "<p>12990 rows × 11 columns</p>\n",
       "</div>"
      ],
      "text/plain": [
       "       Number of Vehicles Accident Date  Time (24hr) Road Surface  \\\n",
       "0                       1    2009-01-01           55          Dry   \n",
       "1                       1    2009-01-02         2335          Dry   \n",
       "2                       1    2009-01-02         1645          Dry   \n",
       "3                       1    2009-01-02         1723          Dry   \n",
       "4                       2    2009-01-02         1350          Dry   \n",
       "...                   ...           ...          ...          ...   \n",
       "12985                   2    2016-12-24         1325   Wet / Damp   \n",
       "12986                   2    2016-12-24         1325   Wet / Damp   \n",
       "12987                   2    2016-12-26         2304          Dry   \n",
       "12988                   2    2016-12-26         2304          Dry   \n",
       "12989                   4    2016-12-31         2346   Wet / Damp   \n",
       "\n",
       "                           Lighting Conditions          Weather Conditions  \\\n",
       "0      Darkness: street lights present and lit     Fine without high winds   \n",
       "1      Darkness: street lights present and lit     Fine without high winds   \n",
       "2      Darkness: street lights present and lit     Fine without high winds   \n",
       "3      Darkness: street lights present and lit     Fine without high winds   \n",
       "4              Daylight: street lights present     Fine without high winds   \n",
       "...                                        ...                         ...   \n",
       "12985          Daylight: street lights present  Raining without high winds   \n",
       "12986          Daylight: street lights present  Raining without high winds   \n",
       "12987  Darkness: street lights present and lit     Fine without high winds   \n",
       "12988  Darkness: street lights present and lit     Fine without high winds   \n",
       "12989  Darkness: street lights present and lit  Raining without high winds   \n",
       "\n",
       "                     Casualty Class Casualty Severity Sex of Casualty  \\\n",
       "0                        Pedestrian            Slight            Male   \n",
       "1                            Driver           Serious          Female   \n",
       "2                        Pedestrian            Slight          Female   \n",
       "3                        Pedestrian            Slight            Male   \n",
       "4                            Driver            Slight          Female   \n",
       "...                             ...               ...             ...   \n",
       "12985               Driver or rider            Slight          Female   \n",
       "12986  Vehicle or pillion passenger            Slight            Male   \n",
       "12987  Vehicle or pillion passenger           Serious          Female   \n",
       "12988               Driver or rider           Serious            Male   \n",
       "12989               Driver or rider            Slight            Male   \n",
       "\n",
       "       Age of Casualty        Type of Vehicle  \n",
       "0                   44                    Car  \n",
       "1                   23                    Car  \n",
       "2                   12                    Car  \n",
       "3                   15                    Car  \n",
       "4                   34                    Car  \n",
       "...                ...                    ...  \n",
       "12985               43                    Car  \n",
       "12986               15                    Car  \n",
       "12987               26  Taxi/Private hire car  \n",
       "12988               66  Taxi/Private hire car  \n",
       "12989               27                    Car  \n",
       "\n",
       "[12990 rows x 11 columns]"
      ]
     },
     "execution_count": 81,
     "metadata": {},
     "output_type": "execute_result"
    }
   ],
   "source": [
    "accdf = pd.read_excel('Dataset/road-accident.xlsx')\n",
    "accdf"
   ]
  },
  {
   "cell_type": "code",
   "execution_count": 82,
   "id": "32def3cd",
   "metadata": {},
   "outputs": [
    {
     "data": {
      "text/html": [
       "<div>\n",
       "<style scoped>\n",
       "    .dataframe tbody tr th:only-of-type {\n",
       "        vertical-align: middle;\n",
       "    }\n",
       "\n",
       "    .dataframe tbody tr th {\n",
       "        vertical-align: top;\n",
       "    }\n",
       "\n",
       "    .dataframe thead th {\n",
       "        text-align: right;\n",
       "    }\n",
       "</style>\n",
       "<table border=\"1\" class=\"dataframe\">\n",
       "  <thead>\n",
       "    <tr style=\"text-align: right;\">\n",
       "      <th></th>\n",
       "      <th>Number of Vehicles</th>\n",
       "      <th>Accident Date</th>\n",
       "      <th>Time (24hr)</th>\n",
       "      <th>Road Surface</th>\n",
       "      <th>Lighting Conditions</th>\n",
       "      <th>Weather Conditions</th>\n",
       "      <th>Casualty Class</th>\n",
       "      <th>Casualty Severity</th>\n",
       "      <th>Sex of Casualty</th>\n",
       "      <th>Age of Casualty</th>\n",
       "      <th>Type of Vehicle</th>\n",
       "    </tr>\n",
       "  </thead>\n",
       "  <tbody>\n",
       "    <tr>\n",
       "      <th>0</th>\n",
       "      <td>1</td>\n",
       "      <td>2009-01-01</td>\n",
       "      <td>55</td>\n",
       "      <td>Dry</td>\n",
       "      <td>Darkness: street lights present and lit</td>\n",
       "      <td>Fine without high winds</td>\n",
       "      <td>Pedestrian</td>\n",
       "      <td>Slight</td>\n",
       "      <td>Male</td>\n",
       "      <td>44</td>\n",
       "      <td>Car</td>\n",
       "    </tr>\n",
       "    <tr>\n",
       "      <th>1</th>\n",
       "      <td>1</td>\n",
       "      <td>2009-01-02</td>\n",
       "      <td>2335</td>\n",
       "      <td>Dry</td>\n",
       "      <td>Darkness: street lights present and lit</td>\n",
       "      <td>Fine without high winds</td>\n",
       "      <td>Driver</td>\n",
       "      <td>Serious</td>\n",
       "      <td>Female</td>\n",
       "      <td>23</td>\n",
       "      <td>Car</td>\n",
       "    </tr>\n",
       "    <tr>\n",
       "      <th>2</th>\n",
       "      <td>1</td>\n",
       "      <td>2009-01-02</td>\n",
       "      <td>1645</td>\n",
       "      <td>Dry</td>\n",
       "      <td>Darkness: street lights present and lit</td>\n",
       "      <td>Fine without high winds</td>\n",
       "      <td>Pedestrian</td>\n",
       "      <td>Slight</td>\n",
       "      <td>Female</td>\n",
       "      <td>12</td>\n",
       "      <td>Car</td>\n",
       "    </tr>\n",
       "    <tr>\n",
       "      <th>3</th>\n",
       "      <td>1</td>\n",
       "      <td>2009-01-02</td>\n",
       "      <td>1723</td>\n",
       "      <td>Dry</td>\n",
       "      <td>Darkness: street lights present and lit</td>\n",
       "      <td>Fine without high winds</td>\n",
       "      <td>Pedestrian</td>\n",
       "      <td>Slight</td>\n",
       "      <td>Male</td>\n",
       "      <td>15</td>\n",
       "      <td>Car</td>\n",
       "    </tr>\n",
       "    <tr>\n",
       "      <th>4</th>\n",
       "      <td>2</td>\n",
       "      <td>2009-01-02</td>\n",
       "      <td>1350</td>\n",
       "      <td>Dry</td>\n",
       "      <td>Daylight: street lights present</td>\n",
       "      <td>Fine without high winds</td>\n",
       "      <td>Driver</td>\n",
       "      <td>Slight</td>\n",
       "      <td>Female</td>\n",
       "      <td>34</td>\n",
       "      <td>Car</td>\n",
       "    </tr>\n",
       "  </tbody>\n",
       "</table>\n",
       "</div>"
      ],
      "text/plain": [
       "   Number of Vehicles Accident Date  Time (24hr) Road Surface  \\\n",
       "0                   1    2009-01-01           55          Dry   \n",
       "1                   1    2009-01-02         2335          Dry   \n",
       "2                   1    2009-01-02         1645          Dry   \n",
       "3                   1    2009-01-02         1723          Dry   \n",
       "4                   2    2009-01-02         1350          Dry   \n",
       "\n",
       "                       Lighting Conditions       Weather Conditions  \\\n",
       "0  Darkness: street lights present and lit  Fine without high winds   \n",
       "1  Darkness: street lights present and lit  Fine without high winds   \n",
       "2  Darkness: street lights present and lit  Fine without high winds   \n",
       "3  Darkness: street lights present and lit  Fine without high winds   \n",
       "4          Daylight: street lights present  Fine without high winds   \n",
       "\n",
       "  Casualty Class Casualty Severity Sex of Casualty  Age of Casualty  \\\n",
       "0     Pedestrian            Slight            Male               44   \n",
       "1         Driver           Serious          Female               23   \n",
       "2     Pedestrian            Slight          Female               12   \n",
       "3     Pedestrian            Slight            Male               15   \n",
       "4         Driver            Slight          Female               34   \n",
       "\n",
       "  Type of Vehicle  \n",
       "0             Car  \n",
       "1             Car  \n",
       "2             Car  \n",
       "3             Car  \n",
       "4             Car  "
      ]
     },
     "execution_count": 82,
     "metadata": {},
     "output_type": "execute_result"
    }
   ],
   "source": [
    "accdf.head()"
   ]
  },
  {
   "cell_type": "code",
   "execution_count": 83,
   "id": "1df6a2d6",
   "metadata": {},
   "outputs": [
    {
     "data": {
      "text/html": [
       "<div>\n",
       "<style scoped>\n",
       "    .dataframe tbody tr th:only-of-type {\n",
       "        vertical-align: middle;\n",
       "    }\n",
       "\n",
       "    .dataframe tbody tr th {\n",
       "        vertical-align: top;\n",
       "    }\n",
       "\n",
       "    .dataframe thead th {\n",
       "        text-align: right;\n",
       "    }\n",
       "</style>\n",
       "<table border=\"1\" class=\"dataframe\">\n",
       "  <thead>\n",
       "    <tr style=\"text-align: right;\">\n",
       "      <th></th>\n",
       "      <th>Number of Vehicles</th>\n",
       "      <th>Accident Date</th>\n",
       "      <th>Time (24hr)</th>\n",
       "      <th>Road Surface</th>\n",
       "      <th>Lighting Conditions</th>\n",
       "      <th>Weather Conditions</th>\n",
       "      <th>Casualty Class</th>\n",
       "      <th>Casualty Severity</th>\n",
       "      <th>Sex of Casualty</th>\n",
       "      <th>Age of Casualty</th>\n",
       "      <th>Type of Vehicle</th>\n",
       "    </tr>\n",
       "  </thead>\n",
       "  <tbody>\n",
       "    <tr>\n",
       "      <th>12985</th>\n",
       "      <td>2</td>\n",
       "      <td>2016-12-24</td>\n",
       "      <td>1325</td>\n",
       "      <td>Wet / Damp</td>\n",
       "      <td>Daylight: street lights present</td>\n",
       "      <td>Raining without high winds</td>\n",
       "      <td>Driver or rider</td>\n",
       "      <td>Slight</td>\n",
       "      <td>Female</td>\n",
       "      <td>43</td>\n",
       "      <td>Car</td>\n",
       "    </tr>\n",
       "    <tr>\n",
       "      <th>12986</th>\n",
       "      <td>2</td>\n",
       "      <td>2016-12-24</td>\n",
       "      <td>1325</td>\n",
       "      <td>Wet / Damp</td>\n",
       "      <td>Daylight: street lights present</td>\n",
       "      <td>Raining without high winds</td>\n",
       "      <td>Vehicle or pillion passenger</td>\n",
       "      <td>Slight</td>\n",
       "      <td>Male</td>\n",
       "      <td>15</td>\n",
       "      <td>Car</td>\n",
       "    </tr>\n",
       "    <tr>\n",
       "      <th>12987</th>\n",
       "      <td>2</td>\n",
       "      <td>2016-12-26</td>\n",
       "      <td>2304</td>\n",
       "      <td>Dry</td>\n",
       "      <td>Darkness: street lights present and lit</td>\n",
       "      <td>Fine without high winds</td>\n",
       "      <td>Vehicle or pillion passenger</td>\n",
       "      <td>Serious</td>\n",
       "      <td>Female</td>\n",
       "      <td>26</td>\n",
       "      <td>Taxi/Private hire car</td>\n",
       "    </tr>\n",
       "    <tr>\n",
       "      <th>12988</th>\n",
       "      <td>2</td>\n",
       "      <td>2016-12-26</td>\n",
       "      <td>2304</td>\n",
       "      <td>Dry</td>\n",
       "      <td>Darkness: street lights present and lit</td>\n",
       "      <td>Fine without high winds</td>\n",
       "      <td>Driver or rider</td>\n",
       "      <td>Serious</td>\n",
       "      <td>Male</td>\n",
       "      <td>66</td>\n",
       "      <td>Taxi/Private hire car</td>\n",
       "    </tr>\n",
       "    <tr>\n",
       "      <th>12989</th>\n",
       "      <td>4</td>\n",
       "      <td>2016-12-31</td>\n",
       "      <td>2346</td>\n",
       "      <td>Wet / Damp</td>\n",
       "      <td>Darkness: street lights present and lit</td>\n",
       "      <td>Raining without high winds</td>\n",
       "      <td>Driver or rider</td>\n",
       "      <td>Slight</td>\n",
       "      <td>Male</td>\n",
       "      <td>27</td>\n",
       "      <td>Car</td>\n",
       "    </tr>\n",
       "  </tbody>\n",
       "</table>\n",
       "</div>"
      ],
      "text/plain": [
       "       Number of Vehicles Accident Date  Time (24hr) Road Surface  \\\n",
       "12985                   2    2016-12-24         1325   Wet / Damp   \n",
       "12986                   2    2016-12-24         1325   Wet / Damp   \n",
       "12987                   2    2016-12-26         2304          Dry   \n",
       "12988                   2    2016-12-26         2304          Dry   \n",
       "12989                   4    2016-12-31         2346   Wet / Damp   \n",
       "\n",
       "                           Lighting Conditions          Weather Conditions  \\\n",
       "12985          Daylight: street lights present  Raining without high winds   \n",
       "12986          Daylight: street lights present  Raining without high winds   \n",
       "12987  Darkness: street lights present and lit     Fine without high winds   \n",
       "12988  Darkness: street lights present and lit     Fine without high winds   \n",
       "12989  Darkness: street lights present and lit  Raining without high winds   \n",
       "\n",
       "                     Casualty Class Casualty Severity Sex of Casualty  \\\n",
       "12985               Driver or rider            Slight          Female   \n",
       "12986  Vehicle or pillion passenger            Slight            Male   \n",
       "12987  Vehicle or pillion passenger           Serious          Female   \n",
       "12988               Driver or rider           Serious            Male   \n",
       "12989               Driver or rider            Slight            Male   \n",
       "\n",
       "       Age of Casualty        Type of Vehicle  \n",
       "12985               43                    Car  \n",
       "12986               15                    Car  \n",
       "12987               26  Taxi/Private hire car  \n",
       "12988               66  Taxi/Private hire car  \n",
       "12989               27                    Car  "
      ]
     },
     "execution_count": 83,
     "metadata": {},
     "output_type": "execute_result"
    }
   ],
   "source": [
    "accdf.tail()"
   ]
  },
  {
   "cell_type": "code",
   "execution_count": 84,
   "id": "092e870a",
   "metadata": {},
   "outputs": [
    {
     "data": {
      "text/plain": [
       "(12990, 11)"
      ]
     },
     "execution_count": 84,
     "metadata": {},
     "output_type": "execute_result"
    }
   ],
   "source": [
    "accdf.shape"
   ]
  },
  {
   "cell_type": "code",
   "execution_count": 85,
   "id": "cdc4a7c3",
   "metadata": {},
   "outputs": [
    {
     "name": "stdout",
     "output_type": "stream",
     "text": [
      "<class 'pandas.core.frame.DataFrame'>\n",
      "RangeIndex: 12990 entries, 0 to 12989\n",
      "Data columns (total 11 columns):\n",
      " #   Column               Non-Null Count  Dtype         \n",
      "---  ------               --------------  -----         \n",
      " 0   Number of Vehicles   12990 non-null  int64         \n",
      " 1   Accident Date        12990 non-null  datetime64[ns]\n",
      " 2   Time (24hr)          12990 non-null  int64         \n",
      " 3   Road Surface         12990 non-null  object        \n",
      " 4   Lighting Conditions  12990 non-null  object        \n",
      " 5   Weather Conditions   12990 non-null  object        \n",
      " 6   Casualty Class       12990 non-null  object        \n",
      " 7   Casualty Severity    12990 non-null  object        \n",
      " 8   Sex of Casualty      12990 non-null  object        \n",
      " 9   Age of Casualty      12990 non-null  int64         \n",
      " 10  Type of Vehicle      12990 non-null  object        \n",
      "dtypes: datetime64[ns](1), int64(3), object(7)\n",
      "memory usage: 1.1+ MB\n"
     ]
    }
   ],
   "source": [
    "accdf.info()"
   ]
  },
  {
   "cell_type": "code",
   "execution_count": 86,
   "id": "a7c4de81",
   "metadata": {},
   "outputs": [
    {
     "data": {
      "text/plain": [
       "Number of Vehicles     0\n",
       "Accident Date          0\n",
       "Time (24hr)            0\n",
       "Road Surface           0\n",
       "Lighting Conditions    0\n",
       "Weather Conditions     0\n",
       "Casualty Class         0\n",
       "Casualty Severity      0\n",
       "Sex of Casualty        0\n",
       "Age of Casualty        0\n",
       "Type of Vehicle        0\n",
       "dtype: int64"
      ]
     },
     "execution_count": 86,
     "metadata": {},
     "output_type": "execute_result"
    }
   ],
   "source": [
    "accdf.isna().sum()"
   ]
  },
  {
   "cell_type": "markdown",
   "id": "4fe9c10b",
   "metadata": {},
   "source": [
    "# Summary Statistics for Numeric Data :"
   ]
  },
  {
   "cell_type": "code",
   "execution_count": 87,
   "id": "7ecc70a5",
   "metadata": {},
   "outputs": [
    {
     "data": {
      "text/html": [
       "<div>\n",
       "<style scoped>\n",
       "    .dataframe tbody tr th:only-of-type {\n",
       "        vertical-align: middle;\n",
       "    }\n",
       "\n",
       "    .dataframe tbody tr th {\n",
       "        vertical-align: top;\n",
       "    }\n",
       "\n",
       "    .dataframe thead th {\n",
       "        text-align: right;\n",
       "    }\n",
       "</style>\n",
       "<table border=\"1\" class=\"dataframe\">\n",
       "  <thead>\n",
       "    <tr style=\"text-align: right;\">\n",
       "      <th></th>\n",
       "      <th>Number of Vehicles</th>\n",
       "      <th>Time (24hr)</th>\n",
       "      <th>Age of Casualty</th>\n",
       "    </tr>\n",
       "  </thead>\n",
       "  <tbody>\n",
       "    <tr>\n",
       "      <th>count</th>\n",
       "      <td>12990.000000</td>\n",
       "      <td>12990.000000</td>\n",
       "      <td>12990.000000</td>\n",
       "    </tr>\n",
       "    <tr>\n",
       "      <th>mean</th>\n",
       "      <td>1.934334</td>\n",
       "      <td>1397.614858</td>\n",
       "      <td>34.885527</td>\n",
       "    </tr>\n",
       "    <tr>\n",
       "      <th>std</th>\n",
       "      <td>0.860014</td>\n",
       "      <td>522.697100</td>\n",
       "      <td>18.223201</td>\n",
       "    </tr>\n",
       "    <tr>\n",
       "      <th>min</th>\n",
       "      <td>1.000000</td>\n",
       "      <td>0.000000</td>\n",
       "      <td>0.000000</td>\n",
       "    </tr>\n",
       "    <tr>\n",
       "      <th>25%</th>\n",
       "      <td>1.000000</td>\n",
       "      <td>1036.000000</td>\n",
       "      <td>21.000000</td>\n",
       "    </tr>\n",
       "    <tr>\n",
       "      <th>50%</th>\n",
       "      <td>2.000000</td>\n",
       "      <td>1450.000000</td>\n",
       "      <td>31.000000</td>\n",
       "    </tr>\n",
       "    <tr>\n",
       "      <th>75%</th>\n",
       "      <td>2.000000</td>\n",
       "      <td>1750.000000</td>\n",
       "      <td>46.000000</td>\n",
       "    </tr>\n",
       "    <tr>\n",
       "      <th>max</th>\n",
       "      <td>14.000000</td>\n",
       "      <td>2358.000000</td>\n",
       "      <td>98.000000</td>\n",
       "    </tr>\n",
       "  </tbody>\n",
       "</table>\n",
       "</div>"
      ],
      "text/plain": [
       "       Number of Vehicles   Time (24hr)  Age of Casualty\n",
       "count        12990.000000  12990.000000     12990.000000\n",
       "mean             1.934334   1397.614858        34.885527\n",
       "std              0.860014    522.697100        18.223201\n",
       "min              1.000000      0.000000         0.000000\n",
       "25%              1.000000   1036.000000        21.000000\n",
       "50%              2.000000   1450.000000        31.000000\n",
       "75%              2.000000   1750.000000        46.000000\n",
       "max             14.000000   2358.000000        98.000000"
      ]
     },
     "execution_count": 87,
     "metadata": {},
     "output_type": "execute_result"
    }
   ],
   "source": [
    "accdf.describe()"
   ]
  },
  {
   "cell_type": "markdown",
   "id": "26c1c1f0",
   "metadata": {},
   "source": [
    "# Summary Statistics for object datatype :"
   ]
  },
  {
   "cell_type": "code",
   "execution_count": 88,
   "id": "fb6bfd09",
   "metadata": {},
   "outputs": [
    {
     "data": {
      "text/html": [
       "<div>\n",
       "<style scoped>\n",
       "    .dataframe tbody tr th:only-of-type {\n",
       "        vertical-align: middle;\n",
       "    }\n",
       "\n",
       "    .dataframe tbody tr th {\n",
       "        vertical-align: top;\n",
       "    }\n",
       "\n",
       "    .dataframe thead th {\n",
       "        text-align: right;\n",
       "    }\n",
       "</style>\n",
       "<table border=\"1\" class=\"dataframe\">\n",
       "  <thead>\n",
       "    <tr style=\"text-align: right;\">\n",
       "      <th></th>\n",
       "      <th>Road Surface</th>\n",
       "      <th>Lighting Conditions</th>\n",
       "      <th>Weather Conditions</th>\n",
       "      <th>Casualty Class</th>\n",
       "      <th>Casualty Severity</th>\n",
       "      <th>Sex of Casualty</th>\n",
       "      <th>Type of Vehicle</th>\n",
       "    </tr>\n",
       "  </thead>\n",
       "  <tbody>\n",
       "    <tr>\n",
       "      <th>count</th>\n",
       "      <td>12990</td>\n",
       "      <td>12990</td>\n",
       "      <td>12990</td>\n",
       "      <td>12990</td>\n",
       "      <td>12990</td>\n",
       "      <td>12990</td>\n",
       "      <td>12990</td>\n",
       "    </tr>\n",
       "    <tr>\n",
       "      <th>unique</th>\n",
       "      <td>8</td>\n",
       "      <td>6</td>\n",
       "      <td>10</td>\n",
       "      <td>5</td>\n",
       "      <td>3</td>\n",
       "      <td>2</td>\n",
       "      <td>28</td>\n",
       "    </tr>\n",
       "    <tr>\n",
       "      <th>top</th>\n",
       "      <td>Dry</td>\n",
       "      <td>Daylight: street lights present</td>\n",
       "      <td>Fine without high winds</td>\n",
       "      <td>Driver</td>\n",
       "      <td>Slight</td>\n",
       "      <td>Male</td>\n",
       "      <td>Car</td>\n",
       "    </tr>\n",
       "    <tr>\n",
       "      <th>freq</th>\n",
       "      <td>9430</td>\n",
       "      <td>8930</td>\n",
       "      <td>11113</td>\n",
       "      <td>6455</td>\n",
       "      <td>11496</td>\n",
       "      <td>7679</td>\n",
       "      <td>9066</td>\n",
       "    </tr>\n",
       "  </tbody>\n",
       "</table>\n",
       "</div>"
      ],
      "text/plain": [
       "       Road Surface              Lighting Conditions       Weather Conditions  \\\n",
       "count         12990                            12990                    12990   \n",
       "unique            8                                6                       10   \n",
       "top             Dry  Daylight: street lights present  Fine without high winds   \n",
       "freq           9430                             8930                    11113   \n",
       "\n",
       "       Casualty Class Casualty Severity Sex of Casualty Type of Vehicle  \n",
       "count           12990             12990           12990           12990  \n",
       "unique              5                 3               2              28  \n",
       "top            Driver            Slight            Male             Car  \n",
       "freq             6455             11496            7679            9066  "
      ]
     },
     "execution_count": 88,
     "metadata": {},
     "output_type": "execute_result"
    }
   ],
   "source": [
    "accdf.describe(include=['O'])"
   ]
  },
  {
   "cell_type": "markdown",
   "id": "8de68154",
   "metadata": {},
   "source": [
    "# Key Observations :"
   ]
  },
  {
   "cell_type": "markdown",
   "id": "4b82b561",
   "metadata": {},
   "source": [
    "### Vehicle type which was involved the most during the crash was car and the class of the casuality was driver"
   ]
  },
  {
   "cell_type": "code",
   "execution_count": 89,
   "id": "cd06df6a",
   "metadata": {},
   "outputs": [
    {
     "data": {
      "text/plain": [
       "array(['Dry', 'Wet / Damp', 'Frost / Ice', 'Snow', 'Flood', 'Frost/ Ice',\n",
       "       5, 'Flood (surface water over 3cm deep)'], dtype=object)"
      ]
     },
     "execution_count": 89,
     "metadata": {},
     "output_type": "execute_result"
    }
   ],
   "source": [
    "accdf['Road Surface'].unique()"
   ]
  },
  {
   "cell_type": "code",
   "execution_count": 90,
   "id": "58c59c6d",
   "metadata": {},
   "outputs": [
    {
     "data": {
      "text/plain": [
       "Daylight: street lights present              8930\n",
       "Darkness: street lights present and lit      2808\n",
       "Darkness: street lighting unknown            1013\n",
       "Darkness: no street lighting                  215\n",
       "Darkness: street lights present but unlit      15\n",
       "5                                               9\n",
       "Name: Lighting Conditions, dtype: int64"
      ]
     },
     "execution_count": 90,
     "metadata": {},
     "output_type": "execute_result"
    }
   ],
   "source": [
    "accdf['Lighting Conditions'].value_counts()"
   ]
  },
  {
   "cell_type": "code",
   "execution_count": 91,
   "id": "289783bd",
   "metadata": {},
   "outputs": [
    {
     "data": {
      "text/plain": [
       "Fine without high winds       11113\n",
       "Raining without high winds     1221\n",
       "Raining with high winds         173\n",
       "Fine with high winds            138\n",
       "Other                           111\n",
       "Snowing without high winds      106\n",
       "Unknown                          57\n",
       "Fog or mist – if hazard          43\n",
       "Fog or mist â€“ if hazard        17\n",
       "Snowing with high winds          11\n",
       "Name: Weather Conditions, dtype: int64"
      ]
     },
     "execution_count": 91,
     "metadata": {},
     "output_type": "execute_result"
    }
   ],
   "source": [
    "accdf['Weather Conditions'].value_counts()"
   ]
  },
  {
   "cell_type": "code",
   "execution_count": 92,
   "id": "c288d029",
   "metadata": {},
   "outputs": [
    {
     "data": {
      "text/plain": [
       "Driver                          6455\n",
       "Passenger                       3264\n",
       "Pedestrian                      1839\n",
       "Driver or rider                 1000\n",
       "Vehicle or pillion passenger     432\n",
       "Name: Casualty Class, dtype: int64"
      ]
     },
     "execution_count": 92,
     "metadata": {},
     "output_type": "execute_result"
    }
   ],
   "source": [
    "accdf['Casualty Class'].value_counts()"
   ]
  },
  {
   "cell_type": "code",
   "execution_count": 93,
   "id": "db4506b5",
   "metadata": {},
   "outputs": [
    {
     "data": {
      "text/plain": [
       "Slight     11496\n",
       "Serious     1391\n",
       "Fatal        103\n",
       "Name: Casualty Severity, dtype: int64"
      ]
     },
     "execution_count": 93,
     "metadata": {},
     "output_type": "execute_result"
    }
   ],
   "source": [
    "accdf['Casualty Severity'].value_counts()"
   ]
  },
  {
   "cell_type": "code",
   "execution_count": 94,
   "id": "3629908d",
   "metadata": {},
   "outputs": [
    {
     "data": {
      "text/plain": [
       "Male      7679\n",
       "Female    5311\n",
       "Name: Sex of Casualty, dtype: int64"
      ]
     },
     "execution_count": 94,
     "metadata": {},
     "output_type": "execute_result"
    }
   ],
   "source": [
    "accdf['Sex of Casualty'].value_counts()"
   ]
  },
  {
   "cell_type": "code",
   "execution_count": 95,
   "id": "13c1ce37",
   "metadata": {},
   "outputs": [
    {
     "data": {
      "text/plain": [
       "array(['Car', 'Bus or coach (17 or more passenger seats)',\n",
       "       'Taxi/Private hire car', 'M/cycle 50cc and under', 'Pedal cycle',\n",
       "       'Other Vehicle ', 'Motorcycle over 125cc and up to 500cc',\n",
       "       'Motorcycle over 50cc and up to 125cc',\n",
       "       'Goods vehicle 3.5 tonnes mgw and under', 'Motorcycle over 500cc',\n",
       "       'Goods vehicle over 3.5 tonnes and under 7.5 tonnes mgw',\n",
       "       'Goods vehicle 7.5 tonnes mgw and over',\n",
       "       'Minibus (8 – 16 passenger seats)',\n",
       "       'Agricultural vehicle (includes diggers etc.)', 'Ridden horse',\n",
       "       'Pedal cycleCar', 'Pedal cyclePedal cycle',\n",
       "       'Motorcycle over Motorcycle over 500cc0cc and up to [Not used]Motorcycle over 500cccc',\n",
       "       'M/cycle Motorcycle over 500cc0cc and under',\n",
       "       'M/cycle Motorcycle over 500cc0cc and under0', 'Car0',\n",
       "       'M/cycle Motorcycle over 500cc0cc and underPedal cycle',\n",
       "       'Motorcycle over [Not used]Motorcycle over 500cccc and up to Motorcycle over 500cc00cc',\n",
       "       'Pedal cycle[Not used]', 'Pedal cycleTaxi/Private hire car',\n",
       "       'Pedal cycle0',\n",
       "       'M/cycle Motorcycle over 500cc0cc and underMotorcycle over Motorcycle over 500cc0cc and up to [Not used]Motorcycle over 500cccc',\n",
       "       'M/cycle Motorcycle over 500cc0cc and underM/cycle Motorcycle over 500cc0cc and under'],\n",
       "      dtype=object)"
      ]
     },
     "execution_count": 95,
     "metadata": {},
     "output_type": "execute_result"
    }
   ],
   "source": [
    "accdf['Type of Vehicle'].unique()"
   ]
  },
  {
   "cell_type": "code",
   "execution_count": 96,
   "id": "131691e1",
   "metadata": {},
   "outputs": [
    {
     "data": {
      "text/plain": [
       "28"
      ]
     },
     "execution_count": 96,
     "metadata": {},
     "output_type": "execute_result"
    }
   ],
   "source": [
    "accdf['Type of Vehicle'].nunique()"
   ]
  },
  {
   "cell_type": "markdown",
   "id": "2ee9f721",
   "metadata": {},
   "source": [
    "# To check outliers :"
   ]
  },
  {
   "cell_type": "code",
   "execution_count": 105,
   "id": "dbdadf81",
   "metadata": {},
   "outputs": [
    {
     "data": {
      "image/png": "[encoded data removed]",
      "text/plain": [
       "<Figure size 1440x720 with 1 Axes>"
      ]
     },
     "metadata": {
      "needs_background": "light"
     },
     "output_type": "display_data"
    }
   ],
   "source": [
    "plt.figure(figsize=(20,10))\n",
    "accdf.boxplot('Age of Casualty')\n",
    "plt.title(\"Check Outliers\")\n",
    "plt.show()"
   ]
  },
  {
   "cell_type": "markdown",
   "id": "35791c11",
   "metadata": {},
   "source": [
    "# Displot to see the Distribution of Age of Casualty :"
   ]
  },
  {
   "cell_type": "code",
   "execution_count": 99,
   "id": "6b89e705",
   "metadata": {
    "scrolled": true
   },
   "outputs": [
    {
     "data": {
      "text/plain": [
       "<Figure size 864x360 with 0 Axes>"
      ]
     },
     "metadata": {},
     "output_type": "display_data"
    },
    {
     "data": {
      "image/png": "[encoded data removed]",
      "text/plain": [
       "<Figure size 360x360 with 1 Axes>"
      ]
     },
     "metadata": {
      "needs_background": "light"
     },
     "output_type": "display_data"
    }
   ],
   "source": [
    "plt.figure(figsize = (12, 5))\n",
    "sns.displot(accdf['Age of Casualty'])\n",
    "plt.show()"
   ]
  },
  {
   "cell_type": "code",
   "execution_count": 100,
   "id": "b18f8145",
   "metadata": {},
   "outputs": [
    {
     "data": {
      "image/png": "[encoded data removed]",
      "text/plain": [
       "<Figure size 432x288 with 1 Axes>"
      ]
     },
     "metadata": {
      "needs_background": "light"
     },
     "output_type": "display_data"
    }
   ],
   "source": [
    "accdf['Casualty Class'].value_counts().plot.bar()\n",
    "plt.xlabel('Affected person')\n",
    "plt.ylabel('Number of Accident')\n",
    "plt.title('Who was affected during accident')\n",
    "plt.show()"
   ]
  },
  {
   "cell_type": "code",
   "execution_count": 111,
   "id": "ad6887ec",
   "metadata": {},
   "outputs": [
    {
     "data": {
      "image/png": "[encoded data removed]",
      "text/plain": [
       "<Figure size 432x288 with 1 Axes>"
      ]
     },
     "metadata": {
      "needs_background": "light"
     },
     "output_type": "display_data"
    }
   ],
   "source": [
    "affected_person = sns.countplot(data = accdf, x = 'Casualty Class', hue = 'Sex of Casualty')\n",
    "affected_person.tick_params(axis='x', rotation=90)\n",
    "plt.xlabel('Casualty Class')\n",
    "plt.ylabel('Number of Casualties')\n",
    "plt.title('Casualty Class as per Gender')\n",
    "plt.show()"
   ]
  }
 ],
 "metadata": {
  "kernelspec": {
   "display_name": "Python 3 (ipykernel)",
   "language": "python",
   "name": "python3"
  },
  "language_info": {
   "codemirror_mode": {
    "name": "ipython",
    "version": 3
   },
   "file_extension": ".py",
   "mimetype": "text/x-python",
   "name": "python",
   "nbconvert_exporter": "python",
   "pygments_lexer": "ipython3",
   "version": "3.9.12"
  }
 },
 "nbformat": 4,
 "nbformat_minor": 5
}
